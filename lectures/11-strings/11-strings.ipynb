{
 "cells": [
  {
   "cell_type": "markdown",
   "metadata": {},
   "source": [
    "Strings\n",
    "====\n",
    "\n",
    "**Note:** this is a modified version of an [original notebook by Cliburn Chan](https://github.com/cliburn/sta-663-2017/blob/master/notebook/04_Strings.ipynb). The original and this modified version are both released under the terms of the MIT license.\n",
    "\n",
    "The process of cleaning data for analysis often requires working with text, for example, to correct typos, convert to standard nomenclature and resolve ambiguous labels. In some statistical fields that deal with (say) processing electronic medical records, information science or recommendations based on user feedback, text must be processed before analysis - for example, by converting to a bag of words.\n",
    "\n",
    "We will use a whimsical example to illustrate Python tools for *munging* text data using string methods and regular expressions. Finally, we will see how to format text data for reporting. "
   ]
  },
  {
   "cell_type": "markdown",
   "metadata": {},
   "source": [
    "Get \"Through the Looking Glass\" \n",
    "---"
   ]
  },
  {
   "cell_type": "code",
   "execution_count": 1,
   "metadata": {
    "collapsed": true
   },
   "outputs": [],
   "source": [
    "import requests\n",
    "\n",
    "try:\n",
    "    with open('looking_glass.txt') as f:\n",
    "        text = f.read()\n",
    "except IOError:\n",
    "    url = 'http://www.gutenberg.org/cache/epub/12/pg12.txt'\n",
    "    res = requests.get(url)\n",
    "    text = res.text\n",
    "    with open('looking_glass.txt', 'w') as f:\n",
    "        f.write(str(text))"
   ]
  },
  {
   "cell_type": "markdown",
   "metadata": {},
   "source": [
    "Slice to get Jabberwocky\n",
    "----"
   ]
  },
  {
   "cell_type": "code",
   "execution_count": 2,
   "metadata": {
    "collapsed": true
   },
   "outputs": [],
   "source": [
    "start = text.find('JABBERWOCKY')"
   ]
  },
  {
   "cell_type": "code",
   "execution_count": 3,
   "metadata": {},
   "outputs": [
    {
     "data": {
      "text/plain": [
       "\"JABBERWOCKY\\n\\n     'Twas brillig, and the slithy toves\\n      Did gyre and gimble in the wabe;\\n     All mimsy were the borogoves,\\n      And the mome raths outgrabe.\\n\\n     'Beware the Jabberwock, my son!\\n      The jaws that bite, the claws that catch!\\n     Beware the Jubjub bird, and shun\\n      The frumious Bandersnatch!'\\n\\n     He took his vorpal sword in hand:\\n      Long time the manxome foe he sought--\\n     So rested he by the Tumtum tree,\\n      And stood awhile in thought.\\n\\n     And as in uffish thought he stood,\\n      The Jabberwock, with eyes of flame,\\n     Came whiffling through the tulgey wood,\\n      And burbled as it came!\\n\\n     One, two! One, two! And through and through\\n      The vorpal blade went snicker-snack!\\n     He left it dead, and with its head\\n      He went galumphing back.\\n\\n     'And hast thou slain the Jabberwock?\\n      Come to my arms, my beamish boy!\\n     O frabjous day! Callooh! Callay!'\\n      He chortled in his joy.\\n\\n     'Twas brillig, and the slithy toves\\n      Did gyre and gimble in the wabe;\\n     All mimsy were the borogoves,\\n      And the mome raths outgrabe.\\n\\n\\n'It seems very pretty,' she said when she had finished it, 'but it's\\nRATHER hard to understand!' (You see she didn't like to confess, even\\nto herself, that she couldn't make it out at all.) 'Somehow it seems\\nto fill my head with ideas--only I don't exactly know what they are!\\nHowever, SOMEBODY killed SOMETHING: that's clear, at any rate--'\\n\\n'But oh!' thought Alice, suddenly jumping up, 'if I don't make haste I\\nshall have to go back through the Looking-glass, before I've seen what\\nthe rest of the house is like! Let's have a look at the garden first!'\\nShe was out of the room in a moment, and ran down stairs--or, at least,\\nit wasn't exactly running, but a new invention of hers for getting down\\nstairs quickly and easily, as Alice said to herself. She just kept the\\ntips of her fingers on the hand-rail, and floated gently down without\\neven touching the stairs with her feet; then she floate\""
      ]
     },
     "execution_count": 3,
     "metadata": {},
     "output_type": "execute_result"
    }
   ],
   "source": [
    "text[start:start+2000]"
   ]
  },
  {
   "cell_type": "code",
   "execution_count": 4,
   "metadata": {
    "collapsed": true
   },
   "outputs": [],
   "source": [
    "end = text.find('It seems very pretty', start)"
   ]
  },
  {
   "cell_type": "code",
   "execution_count": 5,
   "metadata": {},
   "outputs": [
    {
     "data": {
      "text/plain": [
       "\"JABBERWOCKY\\n\\n     'Twas brillig, and the slithy toves\\n      Did gyre and gimble in the wabe;\\n     All mimsy were the borogoves,\\n      And the mome raths outgrabe.\\n\\n     'Beware the Jabberwock, my son!\\n      The jaws that bite, the claws that catch!\\n     Beware the Jubjub bird, and shun\\n      The frumious Bandersnatch!'\\n\\n     He took his vorpal sword in hand:\\n      Long time the manxome foe he sought--\\n     So rested he by the Tumtum tree,\\n      And stood awhile in thought.\\n\\n     And as in uffish thought he stood,\\n      The Jabberwock, with eyes of flame,\\n     Came whiffling through the tulgey wood,\\n      And burbled as it came!\\n\\n     One, two! One, two! And through and through\\n      The vorpal blade went snicker-snack!\\n     He left it dead, and with its head\\n      He went galumphing back.\\n\\n     'And hast thou slain the Jabberwock?\\n      Come to my arms, my beamish boy!\\n     O frabjous day! Callooh! Callay!'\\n      He chortled in his joy.\\n\\n     'Twas brillig, and the slithy toves\\n      Did gyre and gimble in the wabe;\\n     All mimsy were the borogoves,\\n      And the mome raths outgrabe.\\n\\n\\n'\""
      ]
     },
     "execution_count": 5,
     "metadata": {},
     "output_type": "execute_result"
    }
   ],
   "source": [
    "poem = text[start:end]\n",
    "poem"
   ]
  },
  {
   "cell_type": "code",
   "execution_count": 6,
   "metadata": {},
   "outputs": [
    {
     "name": "stdout",
     "output_type": "stream",
     "text": [
      "JABBERWOCKY\n",
      "\n",
      "     'Twas brillig, and the slithy toves\n",
      "      Did gyre and gimble in the wabe;\n",
      "     All mimsy were the borogoves,\n",
      "      And the mome raths outgrabe.\n",
      "\n",
      "     'Beware the Jabberwock, my son!\n",
      "      The jaws that bite, the claws that catch!\n",
      "     Beware the Jubjub bird, and shun\n",
      "      The frumious Bandersnatch!'\n",
      "\n",
      "     He took his vorpal sword in hand:\n",
      "      Long time the manxome foe he sought--\n",
      "     So rested he by the Tumtum tree,\n",
      "      And stood awhile in thought.\n",
      "\n",
      "     And as in uffish thought he stood,\n",
      "      The Jabberwock, with eyes of flame,\n",
      "     Came whiffling through the tulgey wood,\n",
      "      And burbled as it came!\n",
      "\n",
      "     One, two! One, two! And through and through\n",
      "      The vorpal blade went snicker-snack!\n",
      "     He left it dead, and with its head\n",
      "      He went galumphing back.\n",
      "\n",
      "     'And hast thou slain the Jabberwock?\n",
      "      Come to my arms, my beamish boy!\n",
      "     O frabjous day! Callooh! Callay!'\n",
      "      He chortled in his joy.\n",
      "\n",
      "     'Twas brillig, and the slithy toves\n",
      "      Did gyre and gimble in the wabe;\n",
      "     All mimsy were the borogoves,\n",
      "      And the mome raths outgrabe.\n",
      "\n",
      "\n",
      "'\n"
     ]
    }
   ],
   "source": [
    "print(poem)"
   ]
  },
  {
   "cell_type": "code",
   "execution_count": 7,
   "metadata": {},
   "outputs": [
    {
     "name": "stdout",
     "output_type": "stream",
     "text": [
      "Jabberwocky\n",
      "\n",
      "     'Twas Brillig, And The Slithy Toves\n",
      "      Did Gyre And Gimble In The Wabe;\n",
      "     All Mimsy Were The Borogoves,\n",
      "      And The Mome Raths Outgrabe.\n",
      "\n",
      "     'Beware The Jabberwock, My Son!\n",
      "      The Jaws That Bite, The Claws That Catch!\n",
      "     Beware The Jubjub Bird, And Shun\n",
      "      The Frumious Bandersnatch!'\n",
      "\n",
      "     He Took His Vorpal Sword In Hand:\n",
      "      Long Time The Manxome Foe He Sought--\n",
      "     So Rested He By The Tumtum Tree,\n",
      "      And Stood Awhile In Thought.\n",
      "\n",
      "     And As In Uffish Thought He Stood,\n",
      "      The Jabberwock, With Eyes Of Flame,\n",
      "     Came Whiffling Through The Tulgey Wood,\n",
      "      And Burbled As It Came!\n",
      "\n",
      "     One, Two! One, Two! And Through And Through\n",
      "      The Vorpal Blade Went Snicker-Snack!\n",
      "     He Left It Dead, And With Its Head\n",
      "      He Went Galumphing Back.\n",
      "\n",
      "     'And Hast Thou Slain The Jabberwock?\n",
      "      Come To My Arms, My Beamish Boy!\n",
      "     O Frabjous Day! Callooh! Callay!'\n",
      "      He Chortled In His Joy.\n",
      "\n",
      "     'Twas Brillig, And The Slithy Toves\n",
      "      Did Gyre And Gimble In The Wabe;\n",
      "     All Mimsy Were The Borogoves,\n",
      "      And The Mome Raths Outgrabe.\n",
      "\n",
      "\n",
      "'\n"
     ]
    }
   ],
   "source": [
    "print(poem.title())"
   ]
  },
  {
   "cell_type": "code",
   "execution_count": 8,
   "metadata": {},
   "outputs": [
    {
     "data": {
      "text/plain": [
       "15"
      ]
     },
     "execution_count": 8,
     "metadata": {},
     "output_type": "execute_result"
    }
   ],
   "source": [
    "poem.count('the')"
   ]
  },
  {
   "cell_type": "code",
   "execution_count": 9,
   "metadata": {},
   "outputs": [
    {
     "name": "stdout",
     "output_type": "stream",
     "text": [
      "JABBERWOCKY\n",
      "\n",
      "     'Twas brillig, and XXX slithy toves\n",
      "      Did gyre and gimble in XXX wabe;\n",
      "     All mimsy were XXX borogoves,\n",
      "      And XXX mome raths outgrabe.\n",
      "\n",
      "     'Beware XXX Jabberwock, my son!\n",
      "      The jaws that bite, XXX claws that catch!\n",
      "     Beware XXX Jubjub bird, and shun\n",
      "      The frumious Bandersnatch!'\n",
      "\n",
      "     He took his vorpal sword in hand:\n",
      "      Long time XXX manxome foe he sought--\n",
      "     So rested he by XXX Tumtum tree,\n",
      "      And stood awhile in thought.\n",
      "\n",
      "     And as in uffish thought he stood,\n",
      "      The Jabberwock, with eyes of flame,\n",
      "     Came whiffling through XXX tulgey wood,\n",
      "      And burbled as it came!\n",
      "\n",
      "     One, two! One, two! And through and through\n",
      "      The vorpal blade went snicker-snack!\n",
      "     He left it dead, and with its head\n",
      "      He went galumphing back.\n",
      "\n",
      "     'And hast thou slain XXX Jabberwock?\n",
      "      Come to my arms, my beamish boy!\n",
      "     O frabjous day! Callooh! Callay!'\n",
      "      He chortled in his joy.\n",
      "\n",
      "     'Twas brillig, and XXX slithy toves\n",
      "      Did gyre and gimble in XXX wabe;\n",
      "     All mimsy were XXX borogoves,\n",
      "      And XXX mome raths outgrabe.\n",
      "\n",
      "\n",
      "'\n"
     ]
    }
   ],
   "source": [
    "print(poem.replace('the', 'XXX'))"
   ]
  },
  {
   "cell_type": "markdown",
   "metadata": {},
   "source": [
    "Find palindromic words in poem if any\n",
    "----"
   ]
  },
  {
   "cell_type": "code",
   "execution_count": 10,
   "metadata": {
    "collapsed": true
   },
   "outputs": [],
   "source": [
    "poem = poem.lower()"
   ]
  },
  {
   "cell_type": "markdown",
   "metadata": {},
   "source": [
    "We need to remove the punctuation characters to only leave plain text:"
   ]
  },
  {
   "cell_type": "code",
   "execution_count": 11,
   "metadata": {},
   "outputs": [
    {
     "data": {
      "text/plain": [
       "'!\"#$%&\\'()*+,-./:;<=>?@[\\\\]^_`{|}~'"
      ]
     },
     "execution_count": 11,
     "metadata": {},
     "output_type": "execute_result"
    }
   ],
   "source": [
    "import string\n",
    "string.punctuation"
   ]
  },
  {
   "cell_type": "code",
   "execution_count": 12,
   "metadata": {},
   "outputs": [
    {
     "data": {
      "text/plain": [
       "'jabberwocky\\n\\n     twas brillig and the slithy toves\\n      did gyre and gimble in the wabe\\n     all mimsy were the borogoves\\n      and the mome raths outgrabe\\n\\n     beware the jabberwock my son\\n      the jaws that bite the claws that catch\\n     beware the jubjub bird and shun\\n      the frumious bandersnatch\\n\\n     he took his vorpal sword in hand\\n      long time the manxome foe he sought\\n     so rested he by the tumtum tree\\n      and stood awhile in thought\\n\\n     and as in uffish thought he stood\\n      the jabberwock with eyes of flame\\n     came whiffling through the tulgey wood\\n      and burbled as it came\\n\\n     one two one two and through and through\\n      the vorpal blade went snickersnack\\n     he left it dead and with its head\\n      he went galumphing back\\n\\n     and hast thou slain the jabberwock\\n      come to my arms my beamish boy\\n     o frabjous day callooh callay\\n      he chortled in his joy\\n\\n     twas brillig and the slithy toves\\n      did gyre and gimble in the wabe\\n     all mimsy were the borogoves\\n      and the mome raths outgrabe\\n\\n\\n'"
      ]
     },
     "execution_count": 12,
     "metadata": {},
     "output_type": "execute_result"
    }
   ],
   "source": [
    "poem  = poem.translate(dict.fromkeys(map(ord, string.punctuation)))\n",
    "poem"
   ]
  },
  {
   "cell_type": "code",
   "execution_count": 13,
   "metadata": {},
   "outputs": [
    {
     "data": {
      "text/plain": [
       "['jabberwocky',\n",
       " 'twas',\n",
       " 'brillig',\n",
       " 'and',\n",
       " 'the',\n",
       " 'slithy',\n",
       " 'toves',\n",
       " 'did',\n",
       " 'gyre',\n",
       " 'and']"
      ]
     },
     "execution_count": 13,
     "metadata": {},
     "output_type": "execute_result"
    }
   ],
   "source": [
    "words = poem.split()\n",
    "words[:10]"
   ]
  },
  {
   "cell_type": "code",
   "execution_count": 14,
   "metadata": {
    "collapsed": true
   },
   "outputs": [],
   "source": [
    "def is_palindrome(word):\n",
    "    return word == word[::-1]"
   ]
  },
  {
   "cell_type": "code",
   "execution_count": 15,
   "metadata": {},
   "outputs": [
    {
     "data": {
      "text/plain": [
       "{'did', 'o'}"
      ]
     },
     "execution_count": 15,
     "metadata": {},
     "output_type": "execute_result"
    }
   ],
   "source": [
    "{word for word in words if is_palindrome(word)}"
   ]
  },
  {
   "cell_type": "markdown",
   "metadata": {},
   "source": [
    "Top 10 most frequent words\n",
    "----"
   ]
  },
  {
   "cell_type": "code",
   "execution_count": 16,
   "metadata": {
    "collapsed": true
   },
   "outputs": [],
   "source": [
    "import collections"
   ]
  },
  {
   "cell_type": "code",
   "execution_count": 17,
   "metadata": {
    "collapsed": true
   },
   "outputs": [],
   "source": [
    "poem_counter = collections.Counter(words)"
   ]
  },
  {
   "cell_type": "code",
   "execution_count": 18,
   "metadata": {},
   "outputs": [
    {
     "data": {
      "text/plain": [
       "[('the', 19),\n",
       " ('and', 14),\n",
       " ('he', 7),\n",
       " ('in', 6),\n",
       " ('jabberwock', 3),\n",
       " ('my', 3),\n",
       " ('through', 3),\n",
       " ('twas', 2),\n",
       " ('brillig', 2),\n",
       " ('slithy', 2)]"
      ]
     },
     "execution_count": 18,
     "metadata": {},
     "output_type": "execute_result"
    }
   ],
   "source": [
    "poem_counter.most_common(10)"
   ]
  },
  {
   "cell_type": "code",
   "execution_count": 19,
   "metadata": {},
   "outputs": [
    {
     "data": {
      "text/plain": [
       "dict_items([('jabberwocky', 1), ('twas', 2), ('brillig', 2), ('and', 14), ('the', 19), ('slithy', 2), ('toves', 2), ('did', 2), ('gyre', 2), ('gimble', 2), ('in', 6), ('wabe', 2), ('all', 2), ('mimsy', 2), ('were', 2), ('borogoves', 2), ('mome', 2), ('raths', 2), ('outgrabe', 2), ('beware', 2), ('jabberwock', 3), ('my', 3), ('son', 1), ('jaws', 1), ('that', 2), ('bite', 1), ('claws', 1), ('catch', 1), ('jubjub', 1), ('bird', 1), ('shun', 1), ('frumious', 1), ('bandersnatch', 1), ('he', 7), ('took', 1), ('his', 2), ('vorpal', 2), ('sword', 1), ('hand', 1), ('long', 1), ('time', 1), ('manxome', 1), ('foe', 1), ('sought', 1), ('so', 1), ('rested', 1), ('by', 1), ('tumtum', 1), ('tree', 1), ('stood', 2), ('awhile', 1), ('thought', 2), ('as', 2), ('uffish', 1), ('with', 2), ('eyes', 1), ('of', 1), ('flame', 1), ('came', 2), ('whiffling', 1), ('through', 3), ('tulgey', 1), ('wood', 1), ('burbled', 1), ('it', 2), ('one', 2), ('two', 2), ('blade', 1), ('went', 2), ('snickersnack', 1), ('left', 1), ('dead', 1), ('its', 1), ('head', 1), ('galumphing', 1), ('back', 1), ('hast', 1), ('thou', 1), ('slain', 1), ('come', 1), ('to', 1), ('arms', 1), ('beamish', 1), ('boy', 1), ('o', 1), ('frabjous', 1), ('day', 1), ('callooh', 1), ('callay', 1), ('chortled', 1), ('joy', 1)])"
      ]
     },
     "execution_count": 19,
     "metadata": {},
     "output_type": "execute_result"
    }
   ],
   "source": [
    "poem_counter.items()"
   ]
  },
  {
   "cell_type": "markdown",
   "metadata": {},
   "source": [
    "Words that appear exactly twice.\n",
    "----"
   ]
  },
  {
   "cell_type": "code",
   "execution_count": 20,
   "metadata": {},
   "outputs": [
    {
     "data": {
      "text/plain": [
       "[('twas', 2),\n",
       " ('brillig', 2),\n",
       " ('slithy', 2),\n",
       " ('toves', 2),\n",
       " ('did', 2),\n",
       " ('gyre', 2),\n",
       " ('gimble', 2),\n",
       " ('wabe', 2),\n",
       " ('all', 2),\n",
       " ('mimsy', 2),\n",
       " ('were', 2),\n",
       " ('borogoves', 2),\n",
       " ('mome', 2),\n",
       " ('raths', 2),\n",
       " ('outgrabe', 2),\n",
       " ('beware', 2),\n",
       " ('that', 2),\n",
       " ('his', 2),\n",
       " ('vorpal', 2),\n",
       " ('stood', 2),\n",
       " ('thought', 2),\n",
       " ('as', 2),\n",
       " ('with', 2),\n",
       " ('came', 2),\n",
       " ('it', 2),\n",
       " ('one', 2),\n",
       " ('two', 2),\n",
       " ('went', 2)]"
      ]
     },
     "execution_count": 20,
     "metadata": {},
     "output_type": "execute_result"
    }
   ],
   "source": [
    "[(k, v) for (k, v) in poem_counter.items() if v==2]"
   ]
  },
  {
   "cell_type": "markdown",
   "metadata": {},
   "source": [
    "Trigrams\n",
    "----\n",
    "\n",
    "All possible sequences of 3 words in the poem."
   ]
  },
  {
   "cell_type": "code",
   "execution_count": 21,
   "metadata": {},
   "outputs": [
    {
     "data": {
      "text/plain": [
       "[('jabberwocky', 'twas', 'brillig'),\n",
       " ('twas', 'brillig', 'and'),\n",
       " ('brillig', 'and', 'the'),\n",
       " ('and', 'the', 'slithy'),\n",
       " ('the', 'slithy', 'toves'),\n",
       " ('slithy', 'toves', 'did'),\n",
       " ('toves', 'did', 'gyre'),\n",
       " ('did', 'gyre', 'and'),\n",
       " ('gyre', 'and', 'gimble'),\n",
       " ('and', 'gimble', 'in')]"
      ]
     },
     "execution_count": 21,
     "metadata": {},
     "output_type": "execute_result"
    }
   ],
   "source": [
    "list(zip(words[:], words[1:], words[2:]))[:10]"
   ]
  },
  {
   "cell_type": "code",
   "execution_count": 22,
   "metadata": {
    "collapsed": true
   },
   "outputs": [],
   "source": [
    "import itertools as it"
   ]
  },
  {
   "cell_type": "code",
   "execution_count": 23,
   "metadata": {
    "collapsed": true
   },
   "outputs": [],
   "source": [
    "def window(x, n):\n",
    "    \"\"\"Sliding window of size n from iterable x.\"\"\"\n",
    "    s = (it.islice(x, i, None) for i in range(n))\n",
    "    return zip(*s)"
   ]
  },
  {
   "cell_type": "code",
   "execution_count": 24,
   "metadata": {},
   "outputs": [
    {
     "data": {
      "text/plain": [
       "[('jabberwocky', 'twas', 'brillig'),\n",
       " ('twas', 'brillig', 'and'),\n",
       " ('brillig', 'and', 'the'),\n",
       " ('and', 'the', 'slithy'),\n",
       " ('the', 'slithy', 'toves'),\n",
       " ('slithy', 'toves', 'did'),\n",
       " ('toves', 'did', 'gyre'),\n",
       " ('did', 'gyre', 'and'),\n",
       " ('gyre', 'and', 'gimble'),\n",
       " ('and', 'gimble', 'in')]"
      ]
     },
     "execution_count": 24,
     "metadata": {},
     "output_type": "execute_result"
    }
   ],
   "source": [
    "list(window(words, 3))[:10]"
   ]
  },
  {
   "cell_type": "markdown",
   "metadata": {},
   "source": [
    "Using Regular Expressions\n",
    "----\n",
    "\n",
    "- [Regular Expression HOWTO](https://docs.python.org/3/howto/regex.html)\n",
    "- [Test your Python regular expressions](http://pythex.org/)"
   ]
  },
  {
   "cell_type": "markdown",
   "metadata": {},
   "source": [
    "### Find all words with a sequence of two or more identical letters e.g. \"look\""
   ]
  },
  {
   "cell_type": "code",
   "execution_count": 25,
   "metadata": {
    "collapsed": true
   },
   "outputs": [],
   "source": [
    "import re"
   ]
  },
  {
   "cell_type": "code",
   "execution_count": 26,
   "metadata": {
    "collapsed": true
   },
   "outputs": [],
   "source": [
    "regex = re.compile(r'(\\w*(\\w)\\2+\\w*)', re.IGNORECASE | re.MULTILINE)"
   ]
  },
  {
   "cell_type": "code",
   "execution_count": 27,
   "metadata": {},
   "outputs": [
    {
     "name": "stdout",
     "output_type": "stream",
     "text": [
      "b jabberwocky\n",
      "l brillig\n",
      "l all\n",
      "b jabberwock\n",
      "o took\n",
      "e tree\n",
      "o stood\n",
      "f uffish\n",
      "o stood\n",
      "b jabberwock\n",
      "f whiffling\n",
      "o wood\n",
      "b jabberwock\n",
      "o callooh\n",
      "l callay\n",
      "l brillig\n",
      "l all\n"
     ]
    }
   ],
   "source": [
    "for match in regex.finditer(poem):\n",
    "    print(match.group(2), match.group(1))"
   ]
  },
  {
   "cell_type": "markdown",
   "metadata": {},
   "source": [
    "### Convert the identical sequences to uppercase"
   ]
  },
  {
   "cell_type": "code",
   "execution_count": 28,
   "metadata": {},
   "outputs": [
    {
     "name": "stdout",
     "output_type": "stream",
     "text": [
      "jaBBerwocky\n",
      "\n",
      "     twas briLLig and the slithy toves\n",
      "      did gyre and gimble in the wabe\n",
      "     aLL mimsy were the borogoves\n",
      "      and the mome raths outgrabe\n",
      "\n",
      "     beware the jaBBerwock my son\n",
      "      the jaws that bite the claws that catch\n",
      "     beware the jubjub bird and shun\n",
      "      the frumious bandersnatch\n",
      "\n",
      "     he tOOk his vorpal sword in hand\n",
      "      long time the manxome foe he sought\n",
      "     so rested he by the tumtum trEE\n",
      "      and stOOd awhile in thought\n",
      "\n",
      "     and as in uFFish thought he stOOd\n",
      "      the jaBBerwock with eyes of flame\n",
      "     came whiFFling through the tulgey wOOd\n",
      "      and burbled as it came\n",
      "\n",
      "     one two one two and through and through\n",
      "      the vorpal blade went snickersnack\n",
      "     he left it dead and with its head\n",
      "      he went galumphing back\n",
      "\n",
      "     and hast thou slain the jaBBerwock\n",
      "      come to my arms my beamish boy\n",
      "     o frabjous day callOOh caLLay\n",
      "      he chortled in his joy\n",
      "\n",
      "     twas briLLig and the slithy toves\n",
      "      did gyre and gimble in the wabe\n",
      "     aLL mimsy were the borogoves\n",
      "      and the mome raths outgrabe\n",
      "\n",
      "\n",
      "\n"
     ]
    }
   ],
   "source": [
    "def f(match):\n",
    "    word, letter = match.groups()\n",
    "    return word.replace(letter, letter.upper())\n",
    "\n",
    "print(regex.sub(f, poem))"
   ]
  },
  {
   "cell_type": "markdown",
   "metadata": {},
   "source": [
    "Natural language processing\n",
    "----\n",
    "\n",
    "If you intend to perform statistical analysis on natural language, you should probably use NLTK to pre-process the text instead of using string methods and regular expressions. For example, a simple challenge is to first parse the paragraph below into sentences, then parse each sentence into words.\n",
    "\n",
    "Paragraph from random Pubmed abstract."
   ]
  },
  {
   "cell_type": "code",
   "execution_count": 29,
   "metadata": {
    "collapsed": true
   },
   "outputs": [],
   "source": [
    "para = \"\"\"When compared with the control group no significant associations were found for the NS-PEecl group after adjustment of confounding variables. For the S-PEecl group, antiβ2GP1 IgG (OR 16.91, 95% CI 3.71-77.06) was associated, as well as age, obesity, smoking and multiparity. Antiβ2GP1-domain I IgG were associated with aCL, antiβ2GP1 and aPS/PT IgG in the three groups. aPS/PT IgG were associated with aCL IgG, and aPS/PT IgM were associated with aCL and antiβ2GP1 IgM in the three groups CONCLUSION: S-PEecl is a distinct entity from NS-PEecl and is mainly associated with the presence of antiβ2GP1 IgG. Antiβ2GP1 domain I correlate with other aPL IgG tests, and aPS/PT may be promising in patients in which LA tests cannot be interpreted.\"\"\""
   ]
  },
  {
   "cell_type": "markdown",
   "metadata": {},
   "source": [
    "### Naive splitting of sentences as anything separated by ., ! or ?"
   ]
  },
  {
   "cell_type": "code",
   "execution_count": 30,
   "metadata": {
    "collapsed": true
   },
   "outputs": [],
   "source": [
    "sep = re.compile(r'[\\?\\!\\.]')"
   ]
  },
  {
   "cell_type": "code",
   "execution_count": 31,
   "metadata": {
    "collapsed": true
   },
   "outputs": [],
   "source": [
    "ss = sep.split(para)"
   ]
  },
  {
   "cell_type": "code",
   "execution_count": 32,
   "metadata": {},
   "outputs": [
    {
     "name": "stdout",
     "output_type": "stream",
     "text": [
      "1 : When compared with the control group no significant associations were found for the NS-PEecl group after adjustment of confounding variables\n",
      "\n",
      "2 :  For the S-PEecl group, antiβ2GP1 IgG (OR 16\n",
      "\n",
      "3 : 91, 95% CI 3\n",
      "\n",
      "4 : 71-77\n",
      "\n",
      "5 : 06) was associated, as well as age, obesity, smoking and multiparity\n",
      "\n",
      "6 :  Antiβ2GP1-domain I IgG were associated with aCL, antiβ2GP1 and aPS/PT IgG in the three groups\n",
      "\n",
      "7 :  aPS/PT IgG were associated with aCL IgG, and aPS/PT IgM were associated with aCL and antiβ2GP1 IgM in the three groups CONCLUSION: S-PEecl is a distinct entity from NS-PEecl and is mainly associated with the presence of antiβ2GP1 IgG\n",
      "\n",
      "8 :  Antiβ2GP1 domain I correlate with other aPL IgG tests, and aPS/PT may be promising in patients in which LA tests cannot be interpreted\n",
      "\n",
      "9 : \n",
      "\n"
     ]
    }
   ],
   "source": [
    "for i, s in enumerate(ss, 1):\n",
    "    print(i, ':', s, end='\\n\\n')"
   ]
  },
  {
   "cell_type": "markdown",
   "metadata": {},
   "source": [
    "### Using NLTK"
   ]
  },
  {
   "cell_type": "code",
   "execution_count": 33,
   "metadata": {},
   "outputs": [],
   "source": [
    "import nltk"
   ]
  },
  {
   "cell_type": "code",
   "execution_count": 34,
   "metadata": {},
   "outputs": [],
   "source": [
    "ss_nltk = nltk.sent_tokenize(para)"
   ]
  },
  {
   "cell_type": "code",
   "execution_count": 35,
   "metadata": {},
   "outputs": [
    {
     "name": "stdout",
     "output_type": "stream",
     "text": [
      "1 : When compared with the control group no significant associations were found for the NS-PEecl group after adjustment of confounding variables.\n",
      "\n",
      "2 : For the S-PEecl group, antiβ2GP1 IgG (OR 16.91, 95% CI 3.71-77.06) was associated, as well as age, obesity, smoking and multiparity.\n",
      "\n",
      "3 : Antiβ2GP1-domain I IgG were associated with aCL, antiβ2GP1 and aPS/PT IgG in the three groups.\n",
      "\n",
      "4 : aPS/PT IgG were associated with aCL IgG, and aPS/PT IgM were associated with aCL and antiβ2GP1 IgM in the three groups CONCLUSION: S-PEecl is a distinct entity from NS-PEecl and is mainly associated with the presence of antiβ2GP1 IgG.\n",
      "\n",
      "5 : Antiβ2GP1 domain I correlate with other aPL IgG tests, and aPS/PT may be promising in patients in which LA tests cannot be interpreted.\n",
      "\n"
     ]
    }
   ],
   "source": [
    "for i, s in enumerate(ss_nltk, 1):\n",
    "    print(i, ':', s, end='\\n\\n')"
   ]
  },
  {
   "cell_type": "markdown",
   "metadata": {},
   "source": [
    "### Naive parsing of the second sentence into words"
   ]
  },
  {
   "cell_type": "code",
   "execution_count": 36,
   "metadata": {},
   "outputs": [
    {
     "data": {
      "text/plain": [
       "'For the S-PEecl group, antiβ2GP1 IgG (OR 16.91, 95% CI 3.71-77.06) was associated, as well as age, obesity, smoking and multiparity.'"
      ]
     },
     "execution_count": 36,
     "metadata": {},
     "output_type": "execute_result"
    }
   ],
   "source": [
    "s = ss_nltk[1]\n",
    "s"
   ]
  },
  {
   "cell_type": "code",
   "execution_count": 37,
   "metadata": {},
   "outputs": [
    {
     "data": {
      "text/plain": [
       "['For',\n",
       " 'the',\n",
       " 'SPEecl',\n",
       " 'group',\n",
       " 'antiβ2GP1',\n",
       " 'IgG',\n",
       " 'OR',\n",
       " '1691',\n",
       " '95',\n",
       " 'CI',\n",
       " '3717706',\n",
       " 'was',\n",
       " 'associated',\n",
       " 'as',\n",
       " 'well',\n",
       " 'as',\n",
       " 'age',\n",
       " 'obesity',\n",
       " 'smoking',\n",
       " 'and',\n",
       " 'multiparity']"
      ]
     },
     "execution_count": 37,
     "metadata": {},
     "output_type": "execute_result"
    }
   ],
   "source": [
    "# remove punctuation and split on whit space\n",
    "table = dict.fromkeys(map(ord, string.punctuation))\n",
    "s.translate(table).split()"
   ]
  },
  {
   "cell_type": "markdown",
   "metadata": {},
   "source": [
    "### Using NLTK"
   ]
  },
  {
   "cell_type": "code",
   "execution_count": 38,
   "metadata": {},
   "outputs": [
    {
     "data": {
      "text/plain": [
       "['For',\n",
       " 'the',\n",
       " 'S-PEecl',\n",
       " 'group',\n",
       " ',',\n",
       " 'antiβ2GP1',\n",
       " 'IgG',\n",
       " '(',\n",
       " 'OR',\n",
       " '16.91',\n",
       " ',',\n",
       " '95',\n",
       " '%',\n",
       " 'CI',\n",
       " '3.71-77.06',\n",
       " ')',\n",
       " 'was',\n",
       " 'associated',\n",
       " ',',\n",
       " 'as',\n",
       " 'well',\n",
       " 'as',\n",
       " 'age',\n",
       " ',',\n",
       " 'obesity',\n",
       " ',',\n",
       " 'smoking',\n",
       " 'and',\n",
       " 'multiparity',\n",
       " '.']"
      ]
     },
     "execution_count": 38,
     "metadata": {},
     "output_type": "execute_result"
    }
   ],
   "source": [
    "text = nltk.word_tokenize(s)\n",
    "text"
   ]
  },
  {
   "cell_type": "markdown",
   "metadata": {},
   "source": [
    "### NLTK is a rich library  for natural language processing\n",
    "\n",
    "See http://www.nltk.org for details."
   ]
  },
  {
   "cell_type": "markdown",
   "metadata": {},
   "source": [
    "#### Tag tokens with part-of-speech labels"
   ]
  },
  {
   "cell_type": "code",
   "execution_count": 39,
   "metadata": {},
   "outputs": [
    {
     "data": {
      "text/plain": [
       "[('For', 'IN'),\n",
       " ('the', 'DT'),\n",
       " ('S-PEecl', 'NNP'),\n",
       " ('group', 'NN'),\n",
       " (',', ','),\n",
       " ('antiβ2GP1', 'RB'),\n",
       " ('IgG', 'NNP'),\n",
       " ('(', '('),\n",
       " ('OR', 'NNP'),\n",
       " ('16.91', 'CD'),\n",
       " (',', ','),\n",
       " ('95', 'CD'),\n",
       " ('%', 'NN'),\n",
       " ('CI', 'NNP'),\n",
       " ('3.71-77.06', 'CD'),\n",
       " (')', ')'),\n",
       " ('was', 'VBD'),\n",
       " ('associated', 'VBN'),\n",
       " (',', ','),\n",
       " ('as', 'RB'),\n",
       " ('well', 'RB'),\n",
       " ('as', 'IN'),\n",
       " ('age', 'NN'),\n",
       " (',', ','),\n",
       " ('obesity', 'NN'),\n",
       " (',', ','),\n",
       " ('smoking', 'NN'),\n",
       " ('and', 'CC'),\n",
       " ('multiparity', 'NN'),\n",
       " ('.', '.')]"
      ]
     },
     "execution_count": 39,
     "metadata": {},
     "output_type": "execute_result"
    }
   ],
   "source": [
    "tagged_text = nltk.pos_tag(text)\n",
    "tagged_text"
   ]
  },
  {
   "cell_type": "code",
   "execution_count": 40,
   "metadata": {},
   "outputs": [
    {
     "data": {
      "text/plain": [
       "'For the S-PEecl group, antiβ2GP1 IgG (OR 16.91, 95% CI 3.71-77.06) was associated, as well as age, obesity, smoking and multiparity.'"
      ]
     },
     "execution_count": 40,
     "metadata": {},
     "output_type": "execute_result"
    }
   ],
   "source": [
    "s"
   ]
  },
  {
   "cell_type": "markdown",
   "metadata": {},
   "source": [
    "### A simplistic way to pick up nouns"
   ]
  },
  {
   "cell_type": "code",
   "execution_count": 41,
   "metadata": {},
   "outputs": [
    {
     "data": {
      "text/plain": [
       "['S-PEecl',\n",
       " 'group',\n",
       " 'IgG',\n",
       " 'OR',\n",
       " '%',\n",
       " 'CI',\n",
       " 'age',\n",
       " 'obesity',\n",
       " 'smoking',\n",
       " 'multiparity']"
      ]
     },
     "execution_count": 41,
     "metadata": {},
     "output_type": "execute_result"
    }
   ],
   "source": [
    "[w for w, t in tagged_text if t.startswith('N')]"
   ]
  },
  {
   "cell_type": "markdown",
   "metadata": {},
   "source": [
    "String formatting\n",
    "----"
   ]
  },
  {
   "cell_type": "markdown",
   "metadata": {},
   "source": [
    "### Selection"
   ]
  },
  {
   "cell_type": "code",
   "execution_count": 42,
   "metadata": {
    "collapsed": true
   },
   "outputs": [],
   "source": [
    "import math"
   ]
  },
  {
   "cell_type": "code",
   "execution_count": 43,
   "metadata": {
    "collapsed": true
   },
   "outputs": [],
   "source": [
    "stuff = ('bun', 'shoe', ['bee', 'door'], 2, math.pi, 0.05)"
   ]
  },
  {
   "cell_type": "code",
   "execution_count": 44,
   "metadata": {},
   "outputs": [
    {
     "data": {
      "text/plain": [
       "'One: bun, Two shoe'"
      ]
     },
     "execution_count": 44,
     "metadata": {},
     "output_type": "execute_result"
    }
   ],
   "source": [
    "'One: {}, Two {}'.format(*stuff)"
   ]
  },
  {
   "cell_type": "code",
   "execution_count": 45,
   "metadata": {},
   "outputs": [
    {
     "data": {
      "text/plain": [
       "'One: bun, Two shoe'"
      ]
     },
     "execution_count": 45,
     "metadata": {},
     "output_type": "execute_result"
    }
   ],
   "source": [
    "'One: {0}, Two {1}'.format(*stuff)"
   ]
  },
  {
   "cell_type": "code",
   "execution_count": 46,
   "metadata": {},
   "outputs": [
    {
     "data": {
      "text/plain": [
       "'One: shoe, Two shoe'"
      ]
     },
     "execution_count": 46,
     "metadata": {},
     "output_type": "execute_result"
    }
   ],
   "source": [
    "'One: {1}, Two {1}'.format(*stuff)"
   ]
  },
  {
   "cell_type": "code",
   "execution_count": 47,
   "metadata": {},
   "outputs": [
    {
     "data": {
      "text/plain": [
       "'One: bun, Two door'"
      ]
     },
     "execution_count": 47,
     "metadata": {},
     "output_type": "execute_result"
    }
   ],
   "source": [
    "'One: {0}, Two {2[1]}'.format(*stuff)"
   ]
  },
  {
   "cell_type": "markdown",
   "metadata": {},
   "source": [
    "### Formatting"
   ]
  },
  {
   "cell_type": "code",
   "execution_count": 48,
   "metadata": {},
   "outputs": [
    {
     "data": {
      "text/plain": [
       "'One:    bun    , Two ___________shoe'"
      ]
     },
     "execution_count": 48,
     "metadata": {},
     "output_type": "execute_result"
    }
   ],
   "source": [
    "'One: {0:^10s}, Two {1:_>15s}'.format(*stuff)"
   ]
  },
  {
   "cell_type": "code",
   "execution_count": 49,
   "metadata": {},
   "outputs": [
    {
     "data": {
      "text/plain": [
       "'One: 2, Two 3.141592653589793'"
      ]
     },
     "execution_count": 49,
     "metadata": {},
     "output_type": "execute_result"
    }
   ],
   "source": [
    "'One: {3}, Two {4}'.format(*stuff)"
   ]
  },
  {
   "cell_type": "code",
   "execution_count": 50,
   "metadata": {},
   "outputs": [
    {
     "data": {
      "text/plain": [
       "'One:         +2, Two 3.1416'"
      ]
     },
     "execution_count": 50,
     "metadata": {},
     "output_type": "execute_result"
    }
   ],
   "source": [
    "'One: {3:+10d}, Two {4:.4f}'.format(*stuff)"
   ]
  },
  {
   "cell_type": "code",
   "execution_count": 51,
   "metadata": {},
   "outputs": [
    {
     "data": {
      "text/plain": [
       "'One: 0002, Two 3.142'"
      ]
     },
     "execution_count": 51,
     "metadata": {},
     "output_type": "execute_result"
    }
   ],
   "source": [
    "'One: {3:04d}, Two {4:.4g}'.format(*stuff)"
   ]
  },
  {
   "cell_type": "code",
   "execution_count": 52,
   "metadata": {},
   "outputs": [
    {
     "data": {
      "text/plain": [
       "'One: 2.0000e+00, Two 3.1416e+00'"
      ]
     },
     "execution_count": 52,
     "metadata": {},
     "output_type": "execute_result"
    }
   ],
   "source": [
    "'One: {3:.4e}, Two {4:.4e}'.format(*stuff)"
   ]
  },
  {
   "cell_type": "code",
   "execution_count": 53,
   "metadata": {},
   "outputs": [
    {
     "data": {
      "text/plain": [
       "'One: 5.00%, Two 0.050000'"
      ]
     },
     "execution_count": 53,
     "metadata": {},
     "output_type": "execute_result"
    }
   ],
   "source": [
    "'One: {5:.2%}, Two {5:f}'.format(*stuff)"
   ]
  },
  {
   "cell_type": "markdown",
   "metadata": {},
   "source": [
    "### Old style formatting"
   ]
  },
  {
   "cell_type": "code",
   "execution_count": 54,
   "metadata": {},
   "outputs": [
    {
     "data": {
      "text/plain": [
       "\"bun, shoe, ['bee', 'door'], 2, 3.1416, 0.05\""
      ]
     },
     "execution_count": 54,
     "metadata": {},
     "output_type": "execute_result"
    }
   ],
   "source": [
    "'%s, %s, %a, %d, %.4f, %.2f' % stuff"
   ]
  },
  {
   "cell_type": "markdown",
   "metadata": {},
   "source": [
    "### Formatting numpy arrays"
   ]
  },
  {
   "cell_type": "code",
   "execution_count": 55,
   "metadata": {
    "collapsed": true
   },
   "outputs": [],
   "source": [
    "import numpy as np"
   ]
  },
  {
   "cell_type": "code",
   "execution_count": 56,
   "metadata": {},
   "outputs": [
    {
     "data": {
      "text/plain": [
       "array([[ 1,  2,  3,  4],\n",
       "       [ 5,  6,  7,  8],\n",
       "       [ 9, 10, 11, 12]])"
      ]
     },
     "execution_count": 56,
     "metadata": {},
     "output_type": "execute_result"
    }
   ],
   "source": [
    "x = np.arange(1, 13).reshape(3,4)\n",
    "x"
   ]
  },
  {
   "cell_type": "code",
   "execution_count": 57,
   "metadata": {
    "collapsed": true
   },
   "outputs": [],
   "source": [
    "np.set_printoptions(formatter={'int': lambda x: '%8.2f' % x})"
   ]
  },
  {
   "cell_type": "code",
   "execution_count": 58,
   "metadata": {},
   "outputs": [
    {
     "data": {
      "text/plain": [
       "array([[    1.00,     2.00,     3.00,     4.00],\n",
       "       [    5.00,     6.00,     7.00,     8.00],\n",
       "       [    9.00,    10.00,    11.00,    12.00]])"
      ]
     },
     "execution_count": 58,
     "metadata": {},
     "output_type": "execute_result"
    }
   ],
   "source": [
    "x"
   ]
  },
  {
   "cell_type": "code",
   "execution_count": 59,
   "metadata": {
    "collapsed": true
   },
   "outputs": [],
   "source": [
    "np.set_printoptions()"
   ]
  },
  {
   "cell_type": "code",
   "execution_count": 60,
   "metadata": {},
   "outputs": [
    {
     "data": {
      "text/plain": [
       "array([[ 1,  2,  3,  4],\n",
       "       [ 5,  6,  7,  8],\n",
       "       [ 9, 10, 11, 12]])"
      ]
     },
     "execution_count": 60,
     "metadata": {},
     "output_type": "execute_result"
    }
   ],
   "source": [
    "x"
   ]
  }
 ],
 "metadata": {
  "kernelspec": {
   "display_name": "Python 3",
   "language": "python",
   "name": "python3"
  },
  "language_info": {
   "codemirror_mode": {
    "name": "ipython",
    "version": 3
   },
   "file_extension": ".py",
   "mimetype": "text/x-python",
   "name": "python",
   "nbconvert_exporter": "python",
   "pygments_lexer": "ipython3",
   "version": "3.6.3"
  }
 },
 "nbformat": 4,
 "nbformat_minor": 1
}
