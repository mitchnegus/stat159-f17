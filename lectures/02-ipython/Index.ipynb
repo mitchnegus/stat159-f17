{
 "cells": [
  {
   "cell_type": "markdown",
   "metadata": {},
   "source": [
    "# A quick overview of the Jupyter Notebook and IPython\n",
    "\n",
    "Today, we'll cover the basics of using the Jupyter Notebook effectively as an everyday tool, as well as using IPython as an improved Python environment.\n",
    "\n",
    "From now on, to be able to follow easily along in class, the simplest setup for you will be to keep *two* copies of the class Github repository. The first one, you will clone from GitHub and you will **never** modify (unless you plan on submitting your changes back as a contribution/fix, which is very welcome).  The second will be a local working copy of these materials, that you are free to work on and modify but where each week you'll copy anew the new material for that week.  That is:\n",
    "\n",
    "1. Create a clone of the [official github repo](https://github.com/berkeley-stat159-f17/stat159-f17) in a location on your computer you'll keep for reference.  You can do this with the command:\n",
    "\n",
    "    ```\n",
    "    git clone https://github.com/berkeley-stat159-f17/stat159-f17.git stat159-f17-reference\n",
    "    ```  \n",
    "\n",
    "    As the semester progresses, you will frequently go to this folder and issue a `git pull` command.\n",
    "\n",
    "1. Next, make a folder at the same level as `stat159-f17-reference` that you can call `stat159-f17-working`. There, you can copy the materials from the `reference` folder for each week and work on them modifying them at your heart's content.\n",
    "\n",
    "\n",
    "## Class outline\n",
    "\n",
    "* Super basic intro to the notebook: typing code.\n",
    "* [Notebook Basics](Notebook Basics.ipynb)\n",
    "* [Markdown Cells](Working With Markdown Cells.ipynb)\n",
    "* [IPython - beyond plain python](Beyond Plain Python.ipynb)\n",
    "\n",
    "**Note:** The notes for this lecture are just a small subset of the official [IPython in-depth tutorial](https://github.com/ipython/ipython-in-depth), which you can clone from github and study in more depth."
   ]
  },
  {
   "cell_type": "code",
   "execution_count": null,
   "metadata": {
    "collapsed": true
   },
   "outputs": [],
   "source": []
  }
 ],
 "metadata": {
  "kernelspec": {
   "display_name": "Python 3",
   "language": "python",
   "name": "python3"
  },
  "language_info": {
   "codemirror_mode": {
    "name": "ipython",
    "version": 3
   },
   "file_extension": ".py",
   "mimetype": "text/x-python",
   "name": "python",
   "nbconvert_exporter": "python",
   "pygments_lexer": "ipython3",
   "version": "3.6.3"
  }
 },
 "nbformat": 4,
 "nbformat_minor": 2
}
