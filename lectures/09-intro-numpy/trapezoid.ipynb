{
 "cells": [
  {
   "cell_type": "markdown",
   "metadata": {},
   "source": [
    "# The trapezoidal rule: vectorization and perormance\n",
    "\n",
    "Here we discuss in detail the performance profile of various solutions to the exercise from our Numpy introduction, the trapezoidal rule for the numerical approximation of definite integrals.\n",
    "\n",
    "If we denote by $x_{i}$ ($i=0,\\ldots,n,$ with $x_{0}=a$ and $x_{n}=b$) the abscissas\n",
    "where the function is sampled, then\n",
    "\n",
    "$$\\int_{a}^{b}f(x)dx\\approx\\frac{1}{2}\\sum_{i=1}^{n}\\left(x_{i}-x_{i-1}\\right)\\left(f(x_{i})+f(x_{i-1})\\right).$$\n",
    "\n",
    "The common case of using equally spaced abscissas with spacing $h=(b-a)/n$ reads:\n",
    "\n",
    "$$\\int_{a}^{b}f(x)dx\\approx\\frac{h}{2}\\sum_{i=1}^{n}\\left(f(x_{i})+f(x_{i-1})\\right).$$\n",
    "\n",
    "One frequently receives the function values already precomputed, $y_{i}=f(x_{i}),$ so the formula becomes\n",
    "\n",
    "$$\\int_{a}^{b}f(x)dx\\approx\\frac{1}{2}\\sum_{i=1}^{n}\\left(x_{i}-x_{i-1}\\right)\\left(y_{i}+y_{i-1}\\right).$$\n",
    "\n",
    "In this exercise, you'll need to write two functions, `trapz` and `trapzf`. `trapz` applies the trapezoid formula to pre-computed values, implementing equation trapz, while `trapzf` takes a function $f$ as input, as well as the total number of samples to evaluate, and computes the equation above.\n",
    "\n",
    "Test it and show that it produces correct values for some simple integrals you can compute analytically or compare your answers against `scipy.integrate.trapz`, using as test function $f(x)$:\n",
    "\n",
    "$$\n",
    "f(x) = (x-3)(x-5)(x-7)+85\n",
    "$$\n",
    "\n",
    "integrated between $a=1$ and $b=9$."
   ]
  },
  {
   "cell_type": "code",
   "execution_count": 1,
   "metadata": {
    "collapsed": true
   },
   "outputs": [],
   "source": [
    "%matplotlib inline\n",
    "import matplotlib.pyplot as plt\n",
    "import numpy as np\n",
    "import scipy.integrate as sint"
   ]
  },
  {
   "cell_type": "code",
   "execution_count": 2,
   "metadata": {},
   "outputs": [
    {
     "name": "stdout",
     "output_type": "stream",
     "text": [
      "Reference value (trapezoid): 680.0\n"
     ]
    }
   ],
   "source": [
    "def f(x):\n",
    "    return (x-3)*(x-5)*(x-7)+85\n",
    "\n",
    "a, b, n = (1, 9, 200)\n",
    "x = np.linspace(a, b, n)\n",
    "y = f(x)\n",
    "\n",
    "print(\"Reference value (trapezoid):\", sint.trapz(y, x))"
   ]
  },
  {
   "cell_type": "code",
   "execution_count": 3,
   "metadata": {},
   "outputs": [
    {
     "name": "stdout",
     "output_type": "stream",
     "text": [
      "Our functions\n",
      "680.0\n",
      "680.0\n"
     ]
    }
   ],
   "source": [
    "def trapz(y, x):\n",
    "    return 0.5*((x[1:]-x[:-1])*(y[1:]+y[:-1])).sum()\n",
    "\n",
    "def trapzf(f, a, b, n):\n",
    "    x = np.linspace(a, b, n)\n",
    "    # Sample the input function at all values of x\n",
    "    y = f(x)\n",
    "    # Note that in the equations above, the list had n+1 points. Since here we're using\n",
    "    # n as the total number of points, the actual size of the interval h should \n",
    "    # use n-1 in the formula:\n",
    "    h = (b-a)/(n-1)\n",
    "    # Compute the trapezoid rule sum for the final result\n",
    "    return (h/2)*(y[1:]+y[:-1]).sum()\n",
    "\n",
    "print(\"Our functions\")\n",
    "print(trapz(y, x))\n",
    "print(trapzf(f, a, b, n))"
   ]
  },
  {
   "cell_type": "markdown",
   "metadata": {},
   "source": [
    "## Some performance notes\n",
    "\n",
    "Let's compare the time it takes to compute the fully vectorized form in our `trapz` with a more manual implementation that does the computation with a pure Python loop."
   ]
  },
  {
   "cell_type": "code",
   "execution_count": 4,
   "metadata": {},
   "outputs": [
    {
     "data": {
      "text/plain": [
       "680.00000000000011"
      ]
     },
     "execution_count": 4,
     "metadata": {},
     "output_type": "execute_result"
    }
   ],
   "source": [
    "def trapzl(y, x):\n",
    "    \"Pure python version of trapezoid rule.\"\n",
    "    s = 0\n",
    "    for i in range(1, len(x)):\n",
    "        s += (x[i]-x[i-1])*(y[i]+y[i-1])\n",
    "    return s/2\n",
    "\n",
    "trapzl(y, x)"
   ]
  },
  {
   "cell_type": "markdown",
   "metadata": {},
   "source": [
    "Let's compute this over a much finer grid to really see the performance difference"
   ]
  },
  {
   "cell_type": "code",
   "execution_count": 5,
   "metadata": {},
   "outputs": [
    {
     "name": "stdout",
     "output_type": "stream",
     "text": [
      "35.2 µs ± 2.61 µs per loop (mean ± std. dev. of 7 runs, 10000 loops each)\n",
      "10.8 ms ± 444 µs per loop (mean ± std. dev. of 7 runs, 100 loops each)\n"
     ]
    }
   ],
   "source": [
    "a, b, n = (1, 9, 20_000)\n",
    "x = np.linspace(a, b, n)\n",
    "y = f(x)\n",
    "\n",
    "tv = %timeit -o trapz(y, x)\n",
    "tl = %timeit -o trapzl(y, x)"
   ]
  },
  {
   "cell_type": "markdown",
   "metadata": {},
   "source": [
    "The output of `%timeit` is a special `TimeitResult` object that contains all the information about the timing run in a set of attributes. Try typing `tv.<TAB>` to see some of its attributes."
   ]
  },
  {
   "cell_type": "code",
   "execution_count": 6,
   "metadata": {},
   "outputs": [
    {
     "data": {
      "text/plain": [
       "<TimeitResult : 35.2 µs ± 2.61 µs per loop (mean ± std. dev. of 7 runs, 10000 loops each)>"
      ]
     },
     "execution_count": 6,
     "metadata": {},
     "output_type": "execute_result"
    }
   ],
   "source": [
    "tv"
   ]
  },
  {
   "cell_type": "markdown",
   "metadata": {},
   "source": [
    "In particular, we can look at the average run time, which as we can see, is in seconds:"
   ]
  },
  {
   "cell_type": "code",
   "execution_count": 7,
   "metadata": {},
   "outputs": [
    {
     "data": {
      "text/plain": [
       "3.5238153685661796e-05"
      ]
     },
     "execution_count": 7,
     "metadata": {},
     "output_type": "execute_result"
    }
   ],
   "source": [
    "tv.average"
   ]
  },
  {
   "cell_type": "markdown",
   "metadata": {},
   "source": [
    "With this, we can now see how much faster the Numpy version was at 20,000 sample points:"
   ]
  },
  {
   "cell_type": "code",
   "execution_count": 8,
   "metadata": {},
   "outputs": [
    {
     "data": {
      "text/plain": [
       "306.7110725043031"
      ]
     },
     "execution_count": 8,
     "metadata": {},
     "output_type": "execute_result"
    }
   ],
   "source": [
    "tl.average/tv.average"
   ]
  },
  {
   "cell_type": "markdown",
   "metadata": {},
   "source": [
    "Let's see what the performance difference is across a range of sizes (note this will take a while to run). We're actually going to need the same computation of $x$ and $f(x)$ over and over, so let's do it once and retrieve them later on:"
   ]
  },
  {
   "cell_type": "code",
   "execution_count": 9,
   "metadata": {
    "collapsed": true
   },
   "outputs": [],
   "source": [
    "a, b = 1, 9\n",
    "\n",
    "xy = []\n",
    "sizes = np.logspace(1, 7, 7)\n",
    "for n in sizes:\n",
    "    x = np.linspace(a, b, int(n))\n",
    "    y = f(x)\n",
    "    xy.append((x, y))"
   ]
  },
  {
   "cell_type": "code",
   "execution_count": 10,
   "metadata": {},
   "outputs": [
    {
     "name": "stdout",
     "output_type": "stream",
     "text": [
      "3.43 µs ± 147 ns per loop (mean ± std. dev. of 7 runs, 100000 loops each)\n",
      "5.46 µs ± 136 ns per loop (mean ± std. dev. of 7 runs, 100000 loops each)\n",
      "3.72 µs ± 219 ns per loop (mean ± std. dev. of 7 runs, 100000 loops each)\n",
      "52.4 µs ± 1.63 µs per loop (mean ± std. dev. of 7 runs, 10000 loops each)\n",
      "5.49 µs ± 89 ns per loop (mean ± std. dev. of 7 runs, 100000 loops each)\n",
      "514 µs ± 11.6 µs per loop (mean ± std. dev. of 7 runs, 1000 loops each)\n",
      "17.3 µs ± 338 ns per loop (mean ± std. dev. of 7 runs, 10000 loops each)\n",
      "5.29 ms ± 143 µs per loop (mean ± std. dev. of 7 runs, 100 loops each)\n",
      "144 µs ± 3.32 µs per loop (mean ± std. dev. of 7 runs, 10000 loops each)\n",
      "51.7 ms ± 1.03 ms per loop (mean ± std. dev. of 7 runs, 10 loops each)\n",
      "3.56 ms ± 225 µs per loop (mean ± std. dev. of 7 runs, 100 loops each)\n",
      "548 ms ± 10.5 ms per loop (mean ± std. dev. of 7 runs, 1 loop each)\n",
      "71.7 ms ± 672 µs per loop (mean ± std. dev. of 7 runs, 10 loops each)\n",
      "5.18 s ± 50.6 ms per loop (mean ± std. dev. of 7 runs, 1 loop each)\n"
     ]
    }
   ],
   "source": [
    "tv, tl = [], []\n",
    "tve, tle = [], []\n",
    "for x, y in xy:\n",
    "    t1 = %timeit -o trapz(y, x)\n",
    "    tv.append(t1.average)\n",
    "    tve.append(t1.stdev)\n",
    "    t2 = %timeit -o trapzl(y, x)\n",
    "    tl.append(t2.average)\n",
    "    tle.append(t2.stdev)\n",
    "\n",
    "tva = np.array(tv); tvea = np.array(tve)\n",
    "tla = np.array(tl); tlea = np.array(tle)"
   ]
  },
  {
   "cell_type": "markdown",
   "metadata": {},
   "source": [
    "Now let's plot these, along with proper error bars (remember your error propagation formulas, assuming here that the measurements are normal IID for simplicity):"
   ]
  },
  {
   "cell_type": "code",
   "execution_count": 11,
   "metadata": {
    "collapsed": true
   },
   "outputs": [],
   "source": [
    "def rat_err(p, dp, q, dq):\n",
    "    ratio = p/q\n",
    "    err = ratio*np.sqrt((dp/p)**2 + (dq/q)**2)\n",
    "    return ratio, err"
   ]
  },
  {
   "cell_type": "code",
   "execution_count": 12,
   "metadata": {},
   "outputs": [
    {
     "data": {
      "image/png": "[encoded data removed]",
      "text/plain": [
       "<matplotlib.figure.Figure at 0x110765ba8>"
      ]
     },
     "metadata": {},
     "output_type": "display_data"
    }
   ],
   "source": [
    "ratio, err = rat_err(tla, tlea, tva, tvea)\n",
    "\n",
    "plt.errorbar(sizes, ratio, yerr=err, fmt = 'o-')\n",
    "plt.xscale('log')\n",
    "\n",
    "plt.grid(True)\n",
    "plt.xlabel(\"Input size\")\n",
    "plt.ylabel(\"Timing ratio Python/Numpy\")\n",
    "plt.title(\"Python loop relative slowness\");"
   ]
  },
  {
   "cell_type": "markdown",
   "metadata": {},
   "source": [
    "A few observations:\n",
    "\n",
    "- At very small sizes the difference isn't very dramatic. The overhead of the Python function call and basic arithmetic dominates.\n",
    "\n",
    "- For input sizes ranging from the thousands to the million elements, the vectorized version can be ~ 100x to ~300x fastr than the pure Python loop.  This is not uncommon in real-world applications.\n",
    "\n",
    "- At very large sizes (at a million) the performance profile changes.\n",
    "\n",
    "- There's significant uncertainty for one of the values but little for the others, and even accounting for that uncertainty, the conclusion doesn't fundamentally change.\n",
    "\n",
    "In general it's extremely hard to predict exact performance ratios, which often vary in hard to understand ways with problem size, as hardware, cache and algorithm specifics intersect.  But the results of this example aren't suprising: whether exactly 100x or 350x slower, the fact remains that the vectorized solution vastly outperforms a pure Python loop.  This is a key aspect of Numpy as a key piece of high-performance Python.\n",
    "\n",
    "For an in-depth look at the \"vectorized mindset\" for Numpy, Nicolas Rougier has written the excellent (and free!) book [\"From Python to Numpy\"](http://www.labri.fr/perso/nrougier/from-python-to-numpy)."
   ]
  },
  {
   "cell_type": "markdown",
   "metadata": {},
   "source": [
    "## Numba\n",
    "\n",
    "Let's have a look at how [Numba](https://numba.pydata.org) can help in this type of loop-intensive code."
   ]
  },
  {
   "cell_type": "code",
   "execution_count": 13,
   "metadata": {},
   "outputs": [
    {
     "data": {
      "text/plain": [
       "680.0000000000001"
      ]
     },
     "execution_count": 13,
     "metadata": {},
     "output_type": "execute_result"
    }
   ],
   "source": [
    "from numba import jit\n",
    "\n",
    "trapzn = jit(trapzl)\n",
    "\n",
    "x = np.linspace(a, b, 200)\n",
    "y = f(x)\n",
    "\n",
    "trapzn(y, x)"
   ]
  },
  {
   "cell_type": "code",
   "execution_count": 14,
   "metadata": {},
   "outputs": [
    {
     "name": "stdout",
     "output_type": "stream",
     "text": [
      "34.6 µs ± 1.39 µs per loop (mean ± std. dev. of 7 runs, 10000 loops each)\n",
      "22.5 µs ± 732 ns per loop (mean ± std. dev. of 7 runs, 10000 loops each)\n"
     ]
    }
   ],
   "source": [
    "x = np.linspace(a, b, 20_000)\n",
    "y = f(x)\n",
    "\n",
    "%timeit trapz(y, x)\n",
    "%timeit trapzn(y, x)"
   ]
  },
  {
   "cell_type": "markdown",
   "metadata": {},
   "source": [
    "That's pretty impressive! By simply *compiling* our slow, Python code, we get it to beat the Numpy version at a size of 200.\n",
    "\n",
    "Let's collect Numba performance numbers similarly to the code above, and make a plot comparing Numba to Numpy at the same sizes:"
   ]
  },
  {
   "cell_type": "code",
   "execution_count": 15,
   "metadata": {},
   "outputs": [
    {
     "name": "stdout",
     "output_type": "stream",
     "text": [
      "413 ns ± 4.92 ns per loop (mean ± std. dev. of 7 runs, 1000000 loops each)\n",
      "512 ns ± 11.7 ns per loop (mean ± std. dev. of 7 runs, 1000000 loops each)\n",
      "1.56 µs ± 25.3 ns per loop (mean ± std. dev. of 7 runs, 1000000 loops each)\n",
      "11.3 µs ± 150 ns per loop (mean ± std. dev. of 7 runs, 100000 loops each)\n",
      "110 µs ± 1.3 µs per loop (mean ± std. dev. of 7 runs, 10000 loops each)\n",
      "1.16 ms ± 14.6 µs per loop (mean ± std. dev. of 7 runs, 1000 loops each)\n",
      "13 ms ± 948 µs per loop (mean ± std. dev. of 7 runs, 100 loops each)\n"
     ]
    }
   ],
   "source": [
    "tn, tne = [], []\n",
    "for x, y in xy:\n",
    "    t = %timeit -o trapzn(y, x)\n",
    "    tn.append(t.average)\n",
    "    tne.append(t.stdev)\n",
    "\n",
    "tna = np.array(tn)\n",
    "tnea = np.array(tne)"
   ]
  },
  {
   "cell_type": "markdown",
   "metadata": {},
   "source": [
    "Let's look at the Numba data alongside the Python one:"
   ]
  },
  {
   "cell_type": "code",
   "execution_count": 16,
   "metadata": {},
   "outputs": [
    {
     "data": {
      "image/png": "[encoded data removed]",
      "text/plain": [
       "<matplotlib.figure.Figure at 0x1530aaaef0>"
      ]
     },
     "metadata": {},
     "output_type": "display_data"
    }
   ],
   "source": [
    "rp, ep = rat_err(tla, tlea, tva, tvea)\n",
    "rn, en = rat_err(tna, tnea, tva, tvea)\n",
    "\n",
    "plt.errorbar(sizes, rp, yerr=ep, fmt = 'o-', label=\"Python\")\n",
    "plt.errorbar(sizes, rn, yerr=en, fmt = 'o-', label=\"Numba\")\n",
    "plt.xscale('log')\n",
    "plt.yscale('log')\n",
    "\n",
    "plt.grid(True)\n",
    "plt.axhline(1, color='red')\n",
    "plt.legend()\n",
    "plt.xlabel(\"Input size\")\n",
    "plt.ylabel(\"Timing ratios\")\n",
    "plt.title(\"Performance relative to vectorized Numpy\");"
   ]
  },
  {
   "cell_type": "markdown",
   "metadata": {},
   "source": [
    "Let's quickly see the Numba/Numpy ratios (the raw numbers):"
   ]
  },
  {
   "cell_type": "code",
   "execution_count": 17,
   "metadata": {},
   "outputs": [
    {
     "name": "stdout",
     "output_type": "stream",
     "text": [
      "[ 0.12029788  0.13762593  0.28367041  0.65578777  0.76074653  0.32554678\n",
      "  0.18141704]\n",
      "[ 8.31269874  7.26607237  3.52521785  1.52488357  1.31449828  3.07175515\n",
      "  5.51216148]\n"
     ]
    }
   ],
   "source": [
    "print(tna/tva)\n",
    "print(tva/tna)  # Let's look at the reverse relation, which may be a bit easier to interpret"
   ]
  },
  {
   "cell_type": "markdown",
   "metadata": {},
   "source": [
    "Some quick thoughts:\n",
    "\n",
    "- The Numba performance is *always* better than Numpy.  Note that this is a pretty ideal case for Numpy, and we did exactly *nothing* to the Python code other than compile it with `numba.jit`.  We're basically getting better-than-numpy performance for free.  Nubma can be a bit like magic ([this blog post](https://jakevdp.github.io/blog/2015/02/24/optimizing-python-with-numpy-and-numba/) by Jake VanderPlas contains much more detail).\n",
    "\n",
    "- In some cases, the difference is quite remarkable. On the other hand, where Numpy performs best comapred to raw Python, Numba still beats it but not by too much.  This probably indicates Numpy is already nearly optimal in that range.\n",
    "\n",
    "\n",
    "Let's look at the actual times instead, which in this case can be informative:"
   ]
  },
  {
   "cell_type": "code",
   "execution_count": 18,
   "metadata": {},
   "outputs": [
    {
     "data": {
      "image/png": "[encoded data removed]",
      "text/plain": [
       "<matplotlib.figure.Figure at 0x1530bd3d68>"
      ]
     },
     "metadata": {},
     "output_type": "display_data"
    }
   ],
   "source": [
    "plt.errorbar(sizes, tva, yerr=tvea, fmt='o-', label=\"Numpy\")\n",
    "plt.errorbar(sizes, tna, yerr=tnea, fmt='o-', label=\"Numba\")\n",
    "plt.xscale('log')\n",
    "plt.yscale('log')\n",
    "\n",
    "plt.legend()\n",
    "plt.grid(True)\n",
    "plt.xlabel(\"Input size\")\n",
    "plt.ylabel(\"Time (s)\")\n",
    "plt.title(\"Total runtime\");"
   ]
  },
  {
   "cell_type": "markdown",
   "metadata": {},
   "source": [
    "We see that the runtime profile is more smoothly linear (as it should be) for the Numba code."
   ]
  },
  {
   "cell_type": "markdown",
   "metadata": {},
   "source": [
    "## Exercise: Numba atop Numpy?\n",
    "\n",
    "Let's make `trapznv` which is a Numba-fied version of `trapz`, the Numpy version. The question is: can Numba be of any benefit on a function that is already a single Numpy expression? Let's see..."
   ]
  },
  {
   "cell_type": "code",
   "execution_count": 19,
   "metadata": {},
   "outputs": [
    {
     "data": {
      "text/plain": [
       "680.0000000000001"
      ]
     },
     "execution_count": 19,
     "metadata": {},
     "output_type": "execute_result"
    }
   ],
   "source": [
    "trapznv = jit(trapz)\n",
    "\n",
    "x = np.linspace(a, b, 200)\n",
    "y = f(x)\n",
    "\n",
    "trapznv(y, x)"
   ]
  },
  {
   "cell_type": "markdown",
   "metadata": {},
   "source": [
    "Now that we see it's correct, let's look at performance in just one case:"
   ]
  },
  {
   "cell_type": "code",
   "execution_count": 20,
   "metadata": {},
   "outputs": [
    {
     "name": "stdout",
     "output_type": "stream",
     "text": [
      "4.19 µs ± 97.7 ns per loop (mean ± std. dev. of 7 runs, 100000 loops each)\n",
      "1.04 µs ± 22.1 ns per loop (mean ± std. dev. of 7 runs, 1000000 loops each)\n"
     ]
    }
   ],
   "source": [
    "%timeit trapz(y, x)\n",
    "%timeit trapznv(y, x)"
   ]
  },
  {
   "cell_type": "code",
   "execution_count": 21,
   "metadata": {},
   "outputs": [
    {
     "name": "stdout",
     "output_type": "stream",
     "text": [
      "631 ns ± 3.56 ns per loop (mean ± std. dev. of 7 runs, 1000000 loops each)\n",
      "839 ns ± 13.1 ns per loop (mean ± std. dev. of 7 runs, 1000000 loops each)\n",
      "2.84 µs ± 30.6 ns per loop (mean ± std. dev. of 7 runs, 100000 loops each)\n",
      "23.5 µs ± 287 ns per loop (mean ± std. dev. of 7 runs, 10000 loops each)\n",
      "228 µs ± 3.59 µs per loop (mean ± std. dev. of 7 runs, 1000 loops each)\n",
      "3.49 ms ± 125 µs per loop (mean ± std. dev. of 7 runs, 100 loops each)\n",
      "43.7 ms ± 842 µs per loop (mean ± std. dev. of 7 runs, 10 loops each)\n"
     ]
    }
   ],
   "source": [
    "tnv, tnve = [], []\n",
    "for x, y in xy:\n",
    "    t = %timeit -o trapznv(y, x)\n",
    "    tnv.append(t.average)\n",
    "    tnve.append(t.stdev)\n",
    "\n",
    "tnva = np.array(tnv)\n",
    "tnvea = np.array(tnve)"
   ]
  },
  {
   "cell_type": "code",
   "execution_count": 22,
   "metadata": {},
   "outputs": [
    {
     "data": {
      "image/png": "[encoded data removed]",
      "text/plain": [
       "<matplotlib.figure.Figure at 0x1531028438>"
      ]
     },
     "metadata": {},
     "output_type": "display_data"
    }
   ],
   "source": [
    "r, e = rat_err(tnva, tnvea, tva, tvea)\n",
    "\n",
    "plt.errorbar(sizes, r, yerr=e, fmt='o-', label=\"Python\")\n",
    "plt.xscale('log')\n",
    "plt.yscale('log')\n",
    "\n",
    "plt.grid(True)\n",
    "plt.axhline(1, color='red')\n",
    "plt.legend()\n",
    "plt.xlabel(\"Input size\")\n",
    "plt.ylabel(\"Timing ratio\")\n",
    "plt.title(\"Numbifyed Numpy vs regular Numpy\");"
   ]
  },
  {
   "cell_type": "markdown",
   "metadata": {},
   "source": [
    "## Numerical accuracy\n",
    "\n",
    "We should finally take a quick look at accuracy considerations. In this case we know the exact answer (680), so we can see how each method compares. As $n \\rightarrow \\infty$ we expect them all to converge to 680, but let's see if any of them accumulates error worse than the others.  Remember, since the Numba version is algorithmically nothing but the Python code, any differences between Python and Numba would be due to Numba's compilation/optimizations:"
   ]
  },
  {
   "cell_type": "code",
   "execution_count": 23,
   "metadata": {
    "collapsed": true
   },
   "outputs": [],
   "source": [
    "def err(val, exact=680):\n",
    "    return abs((val-exact)/exact)\n",
    "\n",
    "# This time, let's make empty arrays and fill them in\n",
    "epy = np.empty_like(sizes)\n",
    "enpy = np.empty_like(sizes)\n",
    "enba = np.empty_like(sizes)\n",
    "\n",
    "for i, (x, y) in enumerate(xy):\n",
    "    epy[i] = err(trapzl(y, x))\n",
    "    enpy[i] = err(trapz(y, x))\n",
    "    enba[i] = err(trapzn(y, x))"
   ]
  },
  {
   "cell_type": "code",
   "execution_count": 24,
   "metadata": {},
   "outputs": [
    {
     "data": {
      "image/png": "[encoded data removed]",
      "text/plain": [
       "<matplotlib.figure.Figure at 0x1531021278>"
      ]
     },
     "metadata": {},
     "output_type": "display_data"
    }
   ],
   "source": [
    "plt.loglog(sizes, enpy, 'o-', label='Numpy')\n",
    "plt.loglog(sizes, epy, 'o-', label='Python')\n",
    "plt.loglog(sizes, enba, 'o', label='Numba')\n",
    "plt.legend()\n",
    "plt.grid()\n",
    "plt.xlabel(\"Input size\")\n",
    "plt.ylabel(\"Relative error\");"
   ]
  },
  {
   "cell_type": "markdown",
   "metadata": {},
   "source": [
    "Fortunately, we see that Numba produces identical results to Pure Python (good news: its optimizations don't change the results).  Furthermore, while we see a small loss of accuracy relative to Numpy's [high accuracy summation algorithm](https://github.com/numpy/numpy/pull/3685), the error is $\\cal{O}(10^{-14})$, which is still close to floating-point precision."
   ]
  }
 ],
 "metadata": {
  "kernelspec": {
   "display_name": "Python 3",
   "language": "python",
   "name": "python3"
  },
  "language_info": {
   "codemirror_mode": {
    "name": "ipython",
    "version": 3
   },
   "file_extension": ".py",
   "mimetype": "text/x-python",
   "name": "python",
   "nbconvert_exporter": "python",
   "pygments_lexer": "ipython3",
   "version": "3.6.3"
  }
 },
 "nbformat": 4,
 "nbformat_minor": 2
}
