{
 "cells": [
  {
   "cell_type": "markdown",
   "metadata": {},
   "source": [
    "Before you turn this problem in, make sure everything runs as expected. First, **restart the kernel** (in the menubar, select Kernel$\\rightarrow$Restart) and then **run all cells** (in the menubar, select Cell$\\rightarrow$Run All).\n",
    "\n",
    "Make sure you fill in any place that says `YOUR CODE HERE` or \"YOUR ANSWER HERE\", as well as your name and collaborators below:"
   ]
  },
  {
   "cell_type": "code",
   "execution_count": null,
   "metadata": {},
   "outputs": [],
   "source": [
    "NAME = \"\"\n",
    "COLLABORATORS = \"\""
   ]
  },
  {
   "cell_type": "markdown",
   "metadata": {},
   "source": [
    "---"
   ]
  },
  {
   "cell_type": "markdown",
   "metadata": {
    "collapsed": true,
    "deletable": false,
    "editable": false,
    "nbgrader": {
     "checksum": "61b9cf5a74cea1a158e8598aeb277bb3",
     "grade": false,
     "grade_id": "cell-faf5e1ed7fc386d7",
     "locked": true,
     "schema_version": 1,
     "solution": false
    }
   },
   "source": [
    "# Problem 1: Word Frequencies"
   ]
  },
  {
   "cell_type": "markdown",
   "metadata": {
    "collapsed": true,
    "deletable": false,
    "editable": false,
    "nbgrader": {
     "checksum": "5e5fab1e93660ace9688148a6d05fc26",
     "grade": false,
     "grade_id": "cell-ecd5de3fe795a0b8",
     "locked": true,
     "schema_version": 1,
     "solution": false
    }
   },
   "source": [
    "In this problem, you will need to count the frequencies of all the words contained in a compressed text file supplied as input. We'll go through this process in several of parts."
   ]
  },
  {
   "cell_type": "markdown",
   "metadata": {
    "collapsed": true,
    "deletable": false,
    "editable": false,
    "nbgrader": {
     "checksum": "d878519832222d1ac12a06d876edd8e1",
     "grade": false,
     "grade_id": "cell-24ce08703e7f2d82",
     "locked": true,
     "schema_version": 1,
     "solution": false
    }
   },
   "source": [
    "## Part A (2 points)\n",
    "\n",
    "Write a function which takes in a string and and returns the frequencies of each word in a dictionary. Consider 'words' simply the result of splitting the input text into a list, using any form of whitespace as a separator. This is obviously a very naive definition of 'word', but it shall suffice for the purposes of this exercise."
   ]
  },
  {
   "cell_type": "code",
   "execution_count": null,
   "metadata": {
    "deletable": false,
    "nbgrader": {
     "checksum": "68905b6c0ce44e3d0b9440c4daa02a68",
     "grade": false,
     "grade_id": "cell-d61445e6794c93bf",
     "locked": false,
     "schema_version": 1,
     "solution": true
    }
   },
   "outputs": [],
   "source": [
    "def word_freq(text):\n",
    "    \"\"\"Return a dictionary of word frequencies for the given text.\"\"\"\n",
    "\n",
    "    # YOUR CODE HERE\n",
    "    raise NotImplementedError()"
   ]
  },
  {
   "cell_type": "code",
   "execution_count": null,
   "metadata": {
    "deletable": false,
    "editable": false,
    "nbgrader": {
     "checksum": "d4d10f6f6f021bcd406754fef51a7afc",
     "grade": true,
     "grade_id": "cell-2a080a2b8fd3688f",
     "locked": true,
     "points": 2,
     "schema_version": 1,
     "solution": false
    }
   },
   "outputs": [],
   "source": [
    "\"\"\"Check that word_freq returns the right values\"\"\"\n",
    "\n",
    "text = \"do we see how many times do we see many very many\"\n",
    "freqs = word_freq(text)\n",
    "assert freqs[\"many\"] == 3\n",
    "assert freqs[\"do\"] == 2\n",
    "assert freqs[\"how\"] == 1"
   ]
  },
  {
   "cell_type": "markdown",
   "metadata": {
    "deletable": false,
    "editable": false,
    "nbgrader": {
     "checksum": "96163491f9957f811921f3f5f61bcb43",
     "grade": false,
     "grade_id": "cell-6be569d52ebfbc41",
     "locked": true,
     "schema_version": 1,
     "solution": false
    }
   },
   "source": [
    "## Part B (3 points)\n",
    "Using your previous function, write a function which takes in a string and returns a list of (word, frequency) tuples in order of frequency (decreasing)"
   ]
  },
  {
   "cell_type": "code",
   "execution_count": null,
   "metadata": {
    "deletable": false,
    "nbgrader": {
     "checksum": "41f700c6ecde496a7490e0be5480fabb",
     "grade": false,
     "grade_id": "cell-90337e2c390fe07e",
     "locked": false,
     "schema_version": 1,
     "solution": true
    }
   },
   "outputs": [],
   "source": [
    "def ordered_kv(text):\n",
    "    \"\"\"Return a list of (word, frequency) tuples ordered by decreasing freq\"\"\"\n",
    "    \n",
    "    # YOUR CODE HERE\n",
    "    raise NotImplementedError()"
   ]
  },
  {
   "cell_type": "code",
   "execution_count": null,
   "metadata": {
    "deletable": false,
    "editable": false,
    "nbgrader": {
     "checksum": "93ce2ad08bb2771e0cb308097fbb5ca2",
     "grade": true,
     "grade_id": "cell-2e70179247e0d442",
     "locked": true,
     "points": 3,
     "schema_version": 1,
     "solution": false
    }
   },
   "outputs": [],
   "source": [
    "\"\"\"Check that ordered_kv returns the right values\"\"\"\n",
    "\n",
    "text = \"do we see how many times do we see many very many\"\n",
    "kv = ordered_kv(text)\n",
    "assert kv[0][1] == 3\n",
    "assert kv[0][0] == \"many\"\n",
    "assert kv[-1][1] == 1"
   ]
  },
  {
   "cell_type": "markdown",
   "metadata": {
    "deletable": false,
    "editable": false,
    "nbgrader": {
     "checksum": "161d8f3fb22ef930f8e3f892742a8d23",
     "grade": false,
     "grade_id": "cell-bd76310ddf9cbd84",
     "locked": true,
     "schema_version": 1,
     "solution": false
    }
   },
   "source": [
    "## Part C (3 points)\n",
    "Using `ordered_kv`, write a function which takes in a path to a Gzipped file and returns a list of the top 20 words and their frequencies in decreasing order and list of the bottom 20 words and their frequencies in increasing order.\n",
    "\n",
    "The output should look like:\n",
    "\n",
    "```([(\"most_freqent_word\", length_of_word), (\"second_most_frequent_word\", length_of_word),...], [(\"least_frequent_word\", length_of_word), (\"second_least_frequent_word\", length_of_word),...])```\n",
    "\n",
    "Note: This file is compressed!"
   ]
  },
  {
   "cell_type": "code",
   "execution_count": null,
   "metadata": {
    "deletable": false,
    "nbgrader": {
     "checksum": "18baf124d899239c9aef76e5e1da7848",
     "grade": false,
     "grade_id": "cell-eeebfc94eaaf7c9f",
     "locked": false,
     "schema_version": 1,
     "solution": true
    }
   },
   "outputs": [],
   "source": [
    "# YOUR CODE HERE\n",
    "raise NotImplementedError()\n",
    "\n",
    "def top_and_bottom(zipped_path):\n",
    "    \"\"\"Return the top 20 and bottom 20 words in a zipped file\"\"\"\n",
    "    \n",
    "    # YOUR CODE HERE\n",
    "    raise NotImplementedError()"
   ]
  },
  {
   "cell_type": "code",
   "execution_count": null,
   "metadata": {
    "deletable": false,
    "editable": false,
    "nbgrader": {
     "checksum": "5afb546b85d7dacc0d984397c3adc3f4",
     "grade": true,
     "grade_id": "cell-eb209267c4369fb2",
     "locked": true,
     "points": 1,
     "schema_version": 1,
     "solution": false
    }
   },
   "outputs": [],
   "source": [
    "\"\"\"Check that top_and_bottom returns two lists\"\"\"\n",
    "out = top_and_bottom('/accounts/class/s159/exchange/HISTORY.gz')\n",
    "assert len(out) == 2\n",
    "assert type(out[0]) == list\n",
    "assert type(out[1]) == list"
   ]
  },
  {
   "cell_type": "code",
   "execution_count": null,
   "metadata": {
    "deletable": false,
    "editable": false,
    "nbgrader": {
     "checksum": "471bda3e0482f368a4a920cfac69d8ba",
     "grade": true,
     "grade_id": "cell-52aa059e022fb56b",
     "locked": true,
     "points": 2,
     "schema_version": 1,
     "solution": false
    }
   },
   "outputs": [],
   "source": [
    "\"\"\"Check that top_and_bottom returns the right lists\"\"\"\n",
    "top20, bot20 = top_and_bottom('/accounts/class/s159/exchange/HISTORY.gz')\n",
    "\n",
    "assert top20[0][0] == b\"the\"\n",
    "assert top20[0][1] == 2461\n",
    "assert top20[10][0] == b\"The\"\n",
    "assert top20[10][1] == 581\n",
    "\n",
    "for bot_word in bot20:\n",
    "    assert bot_word[1] == 1"
   ]
  },
  {
   "cell_type": "markdown",
   "metadata": {
    "deletable": false,
    "editable": false,
    "nbgrader": {
     "checksum": "04a58ba201b6131181c97e30c499953c",
     "grade": false,
     "grade_id": "cell-d88a7e805762f103",
     "locked": true,
     "schema_version": 1,
     "solution": false
    }
   },
   "source": [
    "## Part D (2 points)\n",
    "Write a function which takes in a path to a Gzipped file and prints the top 20 and bottom 20 words in the same order as above. Format the strings so that the function prints out:\n",
    "\n",
    "```\n",
    "The top 20 words are:\n",
    "Word: word1, Frequency: freq1\n",
    "...\n",
    "\n",
    "The bottom 20 words are (word, frequency):\n",
    "word1,freq1\n",
    "...\n",
    "```\n",
    "\n",
    "Where `word1,freq1` are replaced with the correct words and frequencies "
   ]
  },
  {
   "cell_type": "code",
   "execution_count": null,
   "metadata": {
    "deletable": false,
    "nbgrader": {
     "checksum": "a701fd76aa6f7c219ffe2958e2f8a44f",
     "grade": true,
     "grade_id": "cell-b151d8fd8f60b0f5",
     "locked": false,
     "points": 2,
     "schema_version": 1,
     "solution": true
    }
   },
   "outputs": [],
   "source": [
    "def print_top_and_bottom(zipped_path):\n",
    "    \"\"\"Print the top 20 and bottom 20 words in a zipped file\"\"\"\n",
    "    \n",
    "    # YOUR CODE HERE\n",
    "    raise NotImplementedError()\n",
    "    \n",
    "# print output here\n",
    "print_top_and_bottom('/accounts/class/s159/exchange/HISTORY.gz')"
   ]
  },
  {
   "cell_type": "code",
   "execution_count": null,
   "metadata": {},
   "outputs": [],
   "source": []
  }
 ],
 "metadata": {
  "anaconda-cloud": {},
  "kernelspec": {
   "display_name": "Python 3",
   "language": "python",
   "name": "python3"
  },
  "language_info": {
   "codemirror_mode": {
    "name": "ipython",
    "version": 3
   },
   "file_extension": ".py",
   "mimetype": "text/x-python",
   "name": "python",
   "nbconvert_exporter": "python",
   "pygments_lexer": "ipython3",
   "version": "3.5.3"
  }
 },
 "nbformat": 4,
 "nbformat_minor": 2
}
