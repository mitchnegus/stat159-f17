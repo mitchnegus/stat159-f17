{
 "cells": [
  {
   "cell_type": "markdown",
   "metadata": {},
   "source": [
    "Before you turn this problem in, make sure everything runs as expected. First, **restart the kernel** (in the menubar, select Kernel$\\rightarrow$Restart) and then **run all cells** (in the menubar, select Cell$\\rightarrow$Run All).\n",
    "\n",
    "Make sure you fill in any place that says `YOUR CODE HERE` or \"YOUR ANSWER HERE\", as well as your name and collaborators below:"
   ]
  },
  {
   "cell_type": "code",
   "execution_count": null,
   "metadata": {},
   "outputs": [],
   "source": [
    "NAME = \"\"\n",
    "COLLABORATORS = \"\""
   ]
  },
  {
   "cell_type": "markdown",
   "metadata": {},
   "source": [
    "---"
   ]
  },
  {
   "cell_type": "markdown",
   "metadata": {
    "deletable": false,
    "editable": false,
    "nbgrader": {
     "checksum": "775310da84f97179cbe9f8e414d7819d",
     "grade": false,
     "grade_id": "cell-9b8cac864ab5fed0",
     "locked": true,
     "schema_version": 1,
     "solution": false
    }
   },
   "source": [
    "# Problem 2: Statistics"
   ]
  },
  {
   "cell_type": "markdown",
   "metadata": {
    "deletable": false,
    "editable": false,
    "nbgrader": {
     "checksum": "421237280202dc8e9778fc9bdd4fbb71",
     "grade": false,
     "grade_id": "cell-5d5da2f40d830309",
     "locked": true,
     "schema_version": 1,
     "solution": false
    }
   },
   "source": [
    "In this problem we'll use Python to do some basic statistics"
   ]
  },
  {
   "cell_type": "markdown",
   "metadata": {
    "deletable": false,
    "editable": false,
    "nbgrader": {
     "checksum": "67d30c2f49565c1efcd6bfdf9d80b614",
     "grade": false,
     "grade_id": "cell-98aa54822511d88b",
     "locked": true,
     "schema_version": 1,
     "solution": false
    }
   },
   "source": [
    "## Part A: MLE for a Gaussian (2 points)\n",
    "\n",
    "Recall that with data $X_1,\\ldots,X_n$,drawn i.i.d. from a Gaussian distribution with mean $\\mu$ and variance $\\sigma^2$, the maximum likelihood estimates for $\\mu$ and $\\sigma^2$ are:\n",
    "\n",
    "$$\\hat{\\mu} = \\frac{1}{n}\\sum_{i=1}^n X_i$$\n",
    "$$\\hat{\\sigma}^2 = \\frac{1}{n}\\sum_{i=1}^n (X_i - \\hat{\\mu})^2$$\n",
    "\n",
    "Write a function which takes in a list of data and computes the maximum likeihood estimate for the mean and variance.\n",
    "\n",
    "Your function should return a tuple of (mean, variance)"
   ]
  },
  {
   "cell_type": "code",
   "execution_count": null,
   "metadata": {
    "deletable": false,
    "nbgrader": {
     "checksum": "a3c7c2a37e28c9cf2fe2a74c7e7655e7",
     "grade": false,
     "grade_id": "cell-e7a5f11727049810",
     "locked": false,
     "schema_version": 1,
     "solution": true
    }
   },
   "outputs": [],
   "source": [
    "def compute_mean_and_var(data):\n",
    "    \"\"\"Compute the mean and variance\"\"\"\n",
    "    \n",
    "    # YOUR CODE HERE\n",
    "    raise NotImplementedError()"
   ]
  },
  {
   "cell_type": "code",
   "execution_count": null,
   "metadata": {
    "deletable": false,
    "editable": false,
    "nbgrader": {
     "checksum": "63f1fbb3435a06077e095df33812ce6b",
     "grade": true,
     "grade_id": "cell-7359976d9c8fe588",
     "locked": true,
     "points": 2,
     "schema_version": 1,
     "solution": false
    }
   },
   "outputs": [],
   "source": [
    "\"\"\"Check that means and variances are computed correctly\"\"\"\n",
    "\n",
    "# Don't worry about the use of numpy, it's just for testing\n",
    "import numpy as np\n",
    "# set the seed so it's the same across runs\n",
    "np.random.seed(1234)\n",
    "\n",
    "# test data\n",
    "data = list(np.random.randn(1000))\n",
    "# compute mean and variance and make sure it's right\n",
    "mean, var = compute_mean_and_var(data)\n",
    "np.testing.assert_approx_equal(mean, 0.01574, 3)\n",
    "np.testing.assert_approx_equal(var, 0.9468, 3)"
   ]
  },
  {
   "cell_type": "markdown",
   "metadata": {
    "deletable": false,
    "editable": false,
    "nbgrader": {
     "checksum": "c3c865238fcab6fbabc3b8ad5d72749e",
     "grade": false,
     "grade_id": "cell-5050737d14a42a61",
     "locked": true,
     "schema_version": 1,
     "solution": false
    }
   },
   "source": [
    "## Part B: MLE for Log-Normal (2 points)\n",
    "We say that a random variable $X$ is **Log-Normally distributed** if $\\log X$ is normally distributed. If we have data $X_1,\\ldots,X_n$ that are log normally distributed, then we can use $\\log X_1, \\ldots, \\log X_n$ to estimate the parameters of the log normal distribution with \n",
    "$$\\hat{\\mu} = \\frac{1}{n}\\sum_{i=1}^n \\log X_i$$\n",
    "$$\\hat{\\sigma}^2 = \\frac{1}{n}\\sum_{i=1}^n (\\log X_i - \\hat{\\mu})^2$$\n",
    "Write a function which computes the maximum liklihood estimates.\n",
    "\n",
    "If any of the data are non-positive, then it cannot be log normally distributed. For this problem we'll assume non-positive numbers are missing, so make sure your function removes negative values. If all values are non-positive, return a `ValueError`"
   ]
  },
  {
   "cell_type": "code",
   "execution_count": null,
   "metadata": {
    "deletable": false,
    "nbgrader": {
     "checksum": "d09521ed49fa67daff55dec20a2d7704",
     "grade": false,
     "grade_id": "cell-b51281bbfeba11e4",
     "locked": false,
     "schema_version": 1,
     "solution": true
    }
   },
   "outputs": [],
   "source": [
    "import math\n",
    "\n",
    "def compute_log_mean_and_var(data):\n",
    "    \"\"\"Compute the MLE estimates of the parameters for a log normal\"\"\"\n",
    "    \n",
    "    # YOUR CODE HERE\n",
    "    raise NotImplementedError()"
   ]
  },
  {
   "cell_type": "code",
   "execution_count": null,
   "metadata": {
    "deletable": false,
    "editable": false,
    "nbgrader": {
     "checksum": "c6737f004e965b2f79a23ff2bea6b87c",
     "grade": true,
     "grade_id": "cell-5826b614c45e69ef",
     "locked": true,
     "points": 1,
     "schema_version": 1,
     "solution": false
    }
   },
   "outputs": [],
   "source": [
    "\"\"\"Check that mle parameters are computed correctly\"\"\"\n",
    "# test data\n",
    "np.random.seed(1234)\n",
    "data = list(np.exp(np.random.randn(1000))) + [-1]\n",
    "# compute mean and variance and make sure it's right\n",
    "mean, var = compute_log_mean_and_var(data)\n",
    "np.testing.assert_approx_equal(mean, 0.01574, 3)\n",
    "np.testing.assert_approx_equal(var, 0.9468, 3)"
   ]
  },
  {
   "cell_type": "code",
   "execution_count": null,
   "metadata": {
    "deletable": false,
    "editable": false,
    "nbgrader": {
     "checksum": "f519366c7cd03e580fbb8fa784705f5f",
     "grade": true,
     "grade_id": "cell-8e78fdbafb6e2b96",
     "locked": true,
     "points": 1,
     "schema_version": 1,
     "solution": false
    }
   },
   "outputs": [],
   "source": [
    "\"\"\"Check for correct exception throwing\"\"\"\n",
    "try:\n",
    "    compute_log_mean_and_var([-1,-4])\n",
    "except ValueError:\n",
    "    pass\n",
    "else:\n",
    "    raise AssertionError(\"ValueError not thrown\")"
   ]
  },
  {
   "cell_type": "markdown",
   "metadata": {},
   "source": [
    "# Part C: Confidence intervals and Hypothesis tests (3 points)\n",
    "For data $X-1,\\ldots,X_n$ distributed i.i.d. Normal($\\mu$, 1), a 95% confidence interval for the mean is \n",
    "\n",
    "$$ \\overline{X} \\pm 1.96 * \\frac{1}{\\sqrt{n}}$$\n",
    "\n",
    "Write a function which takes in data as a list of numbers and returns a 95% confidence interval for $\\mu$. The function should return the left and right end points of the confidence interval"
   ]
  },
  {
   "cell_type": "code",
   "execution_count": null,
   "metadata": {
    "deletable": false,
    "nbgrader": {
     "checksum": "8c7907d69ddfb9fdc7e3c9b06e802ec0",
     "grade": false,
     "grade_id": "cell-4f541f56bec8f533",
     "locked": false,
     "schema_version": 1,
     "solution": true
    }
   },
   "outputs": [],
   "source": [
    "# YOUR CODE HERE\n",
    "raise NotImplementedError()"
   ]
  },
  {
   "cell_type": "code",
   "execution_count": null,
   "metadata": {
    "deletable": false,
    "editable": false,
    "nbgrader": {
     "checksum": "af1754faf4cd5000ce187f29d7464230",
     "grade": true,
     "grade_id": "cell-2d211eca0f183b52",
     "locked": true,
     "points": 2,
     "schema_version": 1,
     "solution": false
    }
   },
   "outputs": [],
   "source": [
    "\"\"\"Check if CIs are correct\"\"\"\n",
    "# test data\n",
    "np.random.seed(1234)\n",
    "data = list(np.random.randn(100))\n",
    "# compute confidence interval\n",
    "lower, upper = compute_mean_ci(data)\n",
    "np.testing.assert_approx_equal(lower, -0.1608, 3)\n",
    "np.testing.assert_approx_equal(upper, 0.2311, 3)"
   ]
  },
  {
   "cell_type": "markdown",
   "metadata": {
    "deletable": false,
    "editable": false,
    "nbgrader": {
     "checksum": "3bea29276e5e0a636c4d2b9cddc3f43f",
     "grade": false,
     "grade_id": "cell-7e5261ed04f9d2d8",
     "locked": true,
     "schema_version": 1,
     "solution": false
    }
   },
   "source": [
    "Using your function to compute confidence intervals, write a function which takes in a list of data and performs a hypothesis test at 5% significance level to reject the null hypothesis $H_0:\\mu=0$.\n",
    "\n",
    "Your function should return `True` if we reject the null hypothesis and `False` otherwise"
   ]
  },
  {
   "cell_type": "code",
   "execution_count": null,
   "metadata": {
    "deletable": false,
    "nbgrader": {
     "checksum": "cd5a13231e3470379bc881af30bd7a27",
     "grade": false,
     "grade_id": "cell-89e831d08737decc",
     "locked": false,
     "schema_version": 1,
     "solution": true
    }
   },
   "outputs": [],
   "source": [
    "def hypothesis_test(data):\n",
    "    \"\"\"Test H_0:mu = 0\"\"\"\n",
    "    # YOUR CODE HERE\n",
    "    raise NotImplementedError()"
   ]
  },
  {
   "cell_type": "code",
   "execution_count": null,
   "metadata": {
    "deletable": false,
    "editable": false,
    "nbgrader": {
     "checksum": "5b7e66777acdf08392ff89a5e0cf1f7b",
     "grade": true,
     "grade_id": "cell-87c458f6875779df",
     "locked": true,
     "points": 1,
     "schema_version": 1,
     "solution": false
    }
   },
   "outputs": [],
   "source": [
    "\"\"\"Check if tests are correct\"\"\"\n",
    "# test data\n",
    "np.random.seed(1234)\n",
    "data1 = list(np.random.randn(100))\n",
    "# run test\n",
    "assert hypothesis_test(data1) == False\n",
    "data2 = list(np.random.randn(100) + 1)\n",
    "assert hypothesis_test(data2) == True\n"
   ]
  },
  {
   "cell_type": "markdown",
   "metadata": {
    "deletable": false,
    "editable": false,
    "nbgrader": {
     "checksum": "91e08c1743bdc8700df9fdce7ab940c7",
     "grade": false,
     "grade_id": "cell-abb50aea275442f3",
     "locked": true,
     "schema_version": 1,
     "solution": false
    }
   },
   "source": [
    "# Part D: Simulated Data (3 points)\n",
    "For this question you will read a text file with simulated data from a randomized experiment. In this experiment we randomly select a subset of individuals and apply an intervention to them, leaving the remaining population as a control group. We then measure the response of each individual.\n",
    "\n",
    "Each row of the text file contains two numbers separated by a comma. The first is an indicator for treatment or control: (0 means control, 1 means treated). The second is the value of the response.\n",
    "\n",
    "We model the response for treatment and control as coming from two independent normal distributions, with (possibly) different means and variance equal to 1.\n",
    "\n",
    "Write a function takes in the path to this text file and returns\n",
    "- A 95% confidence interval for the difference in mean responses between the treated and control groups (as a tuple of (left endpoint, right endpoint)\n",
    "- The result of running a hypothesis test at 5% significance level that the two means are the same\n",
    "\n",
    "Statistical note: Remember that the variance for the difference in sample means is different than the variance for the means"
   ]
  },
  {
   "cell_type": "code",
   "execution_count": null,
   "metadata": {
    "deletable": false,
    "nbgrader": {
     "checksum": "9b7c30dc2403abf25e820092e80da4f2",
     "grade": false,
     "grade_id": "cell-057c9edf2a5018ec",
     "locked": false,
     "schema_version": 1,
     "solution": true
    }
   },
   "outputs": [],
   "source": [
    "def read_and_test(file_path):\n",
    "    \"\"\"Compute confidence interval of difference in means and run a test\"\"\"\n",
    "    \n",
    "    # YOUR CODE HERE\n",
    "    raise NotImplementedError()"
   ]
  },
  {
   "cell_type": "code",
   "execution_count": null,
   "metadata": {
    "deletable": false,
    "editable": false,
    "nbgrader": {
     "checksum": "626e4f832013b4072dfcb8a88e5a272e",
     "grade": true,
     "grade_id": "cell-0ab9b81019636477",
     "locked": true,
     "points": 3,
     "schema_version": 1,
     "solution": false
    }
   },
   "outputs": [],
   "source": [
    "\"\"\"Check if results of experiment are correct\"\"\"\n",
    "# compute ci and make sure it's right\n",
    "(lower1, upper1), reject1 = read_and_test(\"/accounts/class/s159/exchange/experiment1.txt\")\n",
    "(lower2, upper2), reject2 = read_and_test(\"/accounts/class/s159/exchange/experiment2.txt\")\n",
    "\n",
    "np.testing.assert_approx_equal(lower1, -0.5642, 3)\n",
    "np.testing.assert_approx_equal(upper1, -0.3323, 3)\n",
    "\n",
    "np.testing.assert_approx_equal(lower2, -0.1894, 3)\n",
    "np.testing.assert_approx_equal(upper2, 0.0424, 3)\n",
    "\n",
    "# check if hypothesis test is right\n",
    "assert reject1 == True\n",
    "assert reject2 == False"
   ]
  }
 ],
 "metadata": {
  "anaconda-cloud": {},
  "kernelspec": {
   "display_name": "Python 3",
   "language": "python",
   "name": "python3"
  },
  "language_info": {
   "codemirror_mode": {
    "name": "ipython",
    "version": 3
   },
   "file_extension": ".py",
   "mimetype": "text/x-python",
   "name": "python",
   "nbconvert_exporter": "python",
   "pygments_lexer": "ipython3",
   "version": "3.5.3"
  }
 },
 "nbformat": 4,
 "nbformat_minor": 2
}
